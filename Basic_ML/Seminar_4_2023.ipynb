{
 "cells": [
  {
   "cell_type": "markdown",
   "metadata": {
    "id": "ulzpHJpry0FI"
   },
   "source": [
    "# Решение задач классификации.\n",
    "\n",
    "* Порешаем теоретические задачи на логистическую регрессию и персептрон.\n",
    "* Научимся решать линейные и нелинейные задачи классификации с логистической регрессии.\n",
    "* Разберём, как подбирать гиперпараметры моделей по сетке.\n",
    "* Потренируемся применять пайплайны."
   ]
  },
  {
   "cell_type": "markdown",
   "metadata": {
    "id": "2lnFWAajy0FL"
   },
   "source": [
    "## Решение теоретических задач\n",
    "\n",
    "**Задание 1**. Рассмотрим простейший персептрон с константой, одним входом $x_1$ и пороговой функцией активации. Подберите веса так, чтобы перептрон реализовывал логическое отрицание (в ответ на 0 выдавал 1 и наоборот).\n",
    "\n",
    "\n",
    "**Задание 2**. Рассмотрим простейший персептрон с константой, двумя входами $x_1$ и $x_2$ и пороговой функцией активации.\n",
    "- подберите веса так, чтобы персептрон реализовывал логическое ИЛИ. / если хотя б один единица, то 1, если все нули, то 0\n",
    "- докажите, что невозможно подобрать веса так, чтобы персептрон реализовывал исключающее логическое ИЛИ (XOR). x1=x2=0^ а их логическое сложение 0, x1=1 x2=0 -> 1, x1=0 x2=1 -> 1, x1=x2=1 -> 0. Связь нелинейная, поэтому линейной функцией это никак не отделить\n",
    "- придумайте, какой признак можно добавить на вход персептрону, чтобы можно было реализовать XOR. Подберите веса. \n",
    "\n",
    "\n",
    "\n",
    "\n",
    "\n",
    "\n",
    "**Задание 3**. Рассмотрим логистическую регрессию в задаче предсказания целевой переменной по двум признакам: $a(x)=\\sigma(w_0+w_1\\cdot x_1 +w_2\\cdot x_2)$.\n",
    "\n",
    "После оценки качества алгоритма по кросс-валидации выяснилось, что модель переобучилась. Какие из нижеперечисленных подходов корректно описаны и их можно предпринять для уменьшения переобучения?\n",
    "\n",
    "1) Уберём константный коэффициент $w_0$, так как он увеличивает сложность модели и при этом не влияет на обобщающую способность модели !!! не можем убрать, так как он влияет на результат модели и на ее обобщающую способность. И видимо его влияние будет запихиваться в другие переменные, которые по факту не объясняются этим изменением\n",
    "\n",
    "2) Добавим к модели регуляризатор $w_0^2 +w_1^2 +w_2^2$, так как l2-регуляризация может уменьшить переобучение\n",
    "\n",
    "3) Добавим к модели регуляризатор вида $|w_1|+|w_2|$, так как l1-регуляризация может уменьшить переобучение\n",
    "\n",
    "4) Добавим к модели регуляризатор вида $[w_1\\neq 0]+[w_2\\neq 0]$, так как l0-регуляризация может уменьшить переобучение (здесь [x] = 1, если выражение x верно, а иначе 0)\n",
    "\n",
    "5) Добавим полиномиальных признаков второй степени, чтобы увеличить обобщающую способность модели. !!! Мы уже на этих признаках переобучились. Если добавить полиномы этих признаков, то вообще будет пиздец ещё большее переобучение\n",
    "\n",
    "\n",
    "**Задание 3**.\n",
    "\n",
    "Покажите, что квадратичная функция потерь $L(y, z) = ([y = +1]−z)^2$\n",
    "позволяет предсказывать корректные вероятности.\n",
    "Нам надо, чтобы функция потерь\n",
    "\n",
    "**Задание 5**. ![Задание 5](задача2.png)"
   ]
  },
  {
   "cell_type": "code",
   "execution_count": 2,
   "metadata": {
    "colab": {
     "base_uri": "https://localhost:8080/"
    },
    "executionInfo": {
     "elapsed": 930,
     "status": "ok",
     "timestamp": 1696257243111,
     "user": {
      "displayName": "Alexandra Kogan",
      "userId": "12354497396341997205"
     },
     "user_tz": -180
    },
    "id": "QXxi3CcRzkm-",
    "outputId": "9d38564f-0e25-4583-8df8-4e7d821c8d09"
   },
   "outputs": [
    {
     "data": {
      "text/plain": [
       "(array([[-1.56862252]]), array([0.47000341]))"
      ]
     },
     "execution_count": 2,
     "metadata": {},
     "output_type": "execute_result"
    }
   ],
   "source": [
    "#Проверяем математические выкладки задачи 5\n",
    "from sklearn.linear_model import LogisticRegression\n",
    "import numpy as np\n",
    "\n",
    "X = np.array([(1, 1)]*12 + [(1, 0)] * 36 + [(0, 1)]*32 + [(0, 0)] * 20)\n",
    "X, y = X[:,0].reshape(-1, 1), X[:,1]\n",
    "\n",
    "lr = LogisticRegression(penalty=None)\n",
    "lr.fit(X, y)\n",
    "lr.coef_, lr.intercept_"
   ]
  },
  {
   "cell_type": "code",
   "execution_count": 3,
   "metadata": {
    "colab": {
     "base_uri": "https://localhost:8080/"
    },
    "executionInfo": {
     "elapsed": 23,
     "status": "ok",
     "timestamp": 1696257243112,
     "user": {
      "displayName": "Alexandra Kogan",
      "userId": "12354497396341997205"
     },
     "user_tz": -180
    },
    "id": "EErWr6z4zm-U",
    "outputId": "c0a53874-d2b8-4b45-828f-c5893a0c1bb4"
   },
   "outputs": [
    {
     "data": {
      "text/plain": [
       "array([[0.38461544, 0.61538456]])"
      ]
     },
     "execution_count": 3,
     "metadata": {},
     "output_type": "execute_result"
    }
   ],
   "source": [
    "lr.predict_proba([[0]])"
   ]
  },
  {
   "cell_type": "markdown",
   "metadata": {
    "id": "iymD8xUgy0FN"
   },
   "source": [
    "##  Задача 1: многоклассовая классификация цветков ириса.\n",
    "\n",
    "![Ирисы](irises.jpg)"
   ]
  },
  {
   "cell_type": "code",
   "execution_count": 8,
   "metadata": {
    "executionInfo": {
     "elapsed": 21,
     "status": "ok",
     "timestamp": 1696257243112,
     "user": {
      "displayName": "Alexandra Kogan",
      "userId": "12354497396341997205"
     },
     "user_tz": -180
    },
    "id": "agYwjUcIy0FN"
   },
   "outputs": [],
   "source": [
    "import os\n",
    "import numpy as np\n",
    "import matplotlib.pyplot as plt\n",
    "import numpy as np\n",
    "from sklearn.linear_model import LogisticRegression\n",
    "\n",
    "import warnings\n",
    "warnings.filterwarnings('ignore')"
   ]
  },
  {
   "cell_type": "code",
   "execution_count": 9,
   "metadata": {
    "colab": {
     "base_uri": "https://localhost:8080/"
    },
    "executionInfo": {
     "elapsed": 21,
     "status": "ok",
     "timestamp": 1696257243112,
     "user": {
      "displayName": "Alexandra Kogan",
      "userId": "12354497396341997205"
     },
     "user_tz": -180
    },
    "id": "wcJrpPJ6y0FO",
    "outputId": "878043f1-4228-4d73-bdf4-68355d6dda0d"
   },
   "outputs": [
    {
     "data": {
      "text/plain": [
       "((150, 4), (150,))"
      ]
     },
     "execution_count": 9,
     "metadata": {},
     "output_type": "execute_result"
    }
   ],
   "source": [
    "from sklearn.datasets import load_iris # датасет предсказания вида цветочка. тут у нас три вида, то есть не просто 0 или 1.\n",
    "\n",
    "iris = load_iris()\n",
    "\n",
    "X = iris.data\n",
    "y = iris.target\n",
    "\n",
    "X.shape, y.shape"
   ]
  },
  {
   "cell_type": "markdown",
   "metadata": {
    "id": "rG23Kdemy0FP"
   },
   "source": [
    "Выведите на экран все различные значения целевой переменной, а также распределение классов"
   ]
  },
  {
   "cell_type": "code",
   "execution_count": 11,
   "metadata": {
    "colab": {
     "base_uri": "https://localhost:8080/"
    },
    "executionInfo": {
     "elapsed": 20,
     "status": "ok",
     "timestamp": 1696257243113,
     "user": {
      "displayName": "Alexandra Kogan",
      "userId": "12354497396341997205"
     },
     "user_tz": -180
    },
    "id": "ju-GkN_1y0FP",
    "outputId": "596029c5-3cc5-4fd1-bf10-c9f2a22fb5be"
   },
   "outputs": [
    {
     "data": {
      "text/plain": [
       "array([0, 1, 2])"
      ]
     },
     "execution_count": 11,
     "metadata": {},
     "output_type": "execute_result"
    }
   ],
   "source": [
    "#your code here\n",
    "np.unique(y)"
   ]
  },
  {
   "cell_type": "code",
   "execution_count": 12,
   "metadata": {
    "colab": {
     "base_uri": "https://localhost:8080/"
    },
    "executionInfo": {
     "elapsed": 19,
     "status": "ok",
     "timestamp": 1696257243113,
     "user": {
      "displayName": "Alexandra Kogan",
      "userId": "12354497396341997205"
     },
     "user_tz": -180
    },
    "id": "78N1bu5Fy0FQ",
    "outputId": "dc1d8241-f782-478b-b931-69a479cc00a2"
   },
   "outputs": [
    {
     "data": {
      "text/plain": [
       "Counter({0: 50, 1: 50, 2: 50})"
      ]
     },
     "execution_count": 12,
     "metadata": {},
     "output_type": "execute_result"
    }
   ],
   "source": [
    "from collections import Counter\n",
    "\n",
    "Counter(y) # смотрим на сбалансированность"
   ]
  },
  {
   "cell_type": "markdown",
   "metadata": {
    "id": "1qGpovc4y0FQ"
   },
   "source": [
    "Для решения этой задачи будем использовать **линейную модель - логистическую регрессию**.\n",
    "\n",
    "Для начала разобъем данные на train и test (test - 20% от всех данных)."
   ]
  },
  {
   "cell_type": "code",
   "execution_count": 13,
   "metadata": {
    "executionInfo": {
     "elapsed": 18,
     "status": "ok",
     "timestamp": 1696257243113,
     "user": {
      "displayName": "Alexandra Kogan",
      "userId": "12354497396341997205"
     },
     "user_tz": -180
    },
    "id": "QheK55Lwy0FQ"
   },
   "outputs": [],
   "source": [
    "from sklearn.metrics import accuracy_score\n",
    "from sklearn.model_selection import train_test_split\n",
    "\n",
    "Xtrain, Xtest, ytrain, ytest = train_test_split(X, y, test_size=0.2, \\\n",
    "                                               random_state=1)"
   ]
  },
  {
   "cell_type": "markdown",
   "metadata": {
    "id": "3MqS_90-y0FQ"
   },
   "source": [
    "Обучим логистическую регрессию на train и выведем качество (accuracy) на train и на test."
   ]
  },
  {
   "cell_type": "code",
   "execution_count": 14,
   "metadata": {
    "colab": {
     "base_uri": "https://localhost:8080/"
    },
    "executionInfo": {
     "elapsed": 19,
     "status": "ok",
     "timestamp": 1696257243114,
     "user": {
      "displayName": "Alexandra Kogan",
      "userId": "12354497396341997205"
     },
     "user_tz": -180
    },
    "id": "JHD8lmuKy0FR",
    "outputId": "84aa35c7-c2ba-4d22-91e5-8dd72e8fb138"
   },
   "outputs": [
    {
     "data": {
      "text/plain": [
       "(0.9833333333333333, 0.9666666666666667)"
      ]
     },
     "execution_count": 14,
     "metadata": {},
     "output_type": "execute_result"
    }
   ],
   "source": [
    "model = LogisticRegression(solver='lbfgs', multi_class='auto')\n",
    "model.fit(Xtrain, ytrain)\n",
    "\n",
    "pred_train = model.predict(Xtrain)\n",
    "pred_test = model.predict(Xtest)\n",
    "\n",
    "accuracy_score(ytrain,pred_train), accuracy_score(ytest,pred_test) # аккураси высокая даже на тесте, видимо датасет простой и реально предсказать можно вид ириса по длине"
   ]
  },
  {
   "cell_type": "markdown",
   "metadata": {
    "id": "n_4dVephy0FR"
   },
   "source": [
    "Посмотрим на качество алгоритма на кросс-валидации."
   ]
  },
  {
   "cell_type": "code",
   "execution_count": 15,
   "metadata": {
    "colab": {
     "base_uri": "https://localhost:8080/"
    },
    "executionInfo": {
     "elapsed": 18,
     "status": "ok",
     "timestamp": 1696257243114,
     "user": {
      "displayName": "Alexandra Kogan",
      "userId": "12354497396341997205"
     },
     "user_tz": -180
    },
    "id": "8Ga4YOv7y0FR",
    "outputId": "cd926a79-b08b-45df-e324-7cfccd1e3b33"
   },
   "outputs": [
    {
     "data": {
      "text/plain": [
       "array([0.95454545, 1.        , 0.90909091, 0.95238095, 0.95238095,\n",
       "       1.        , 1.        ])"
      ]
     },
     "execution_count": 15,
     "metadata": {},
     "output_type": "execute_result"
    }
   ],
   "source": [
    "from sklearn.model_selection import cross_val_score\n",
    "cross_val_score(model, X, y, cv=7, scoring='accuracy')"
   ]
  },
  {
   "cell_type": "markdown",
   "metadata": {
    "id": "oKGnulw7y0FS"
   },
   "source": [
    "Получили очень высокую долю правильных ответов модели.\n",
    "\n",
    "Посмотрим, можно ли улучшить качество модели **подбором её гиперпараметров**. Логистическая регрессия имеет гиперпараметр C - подберём его.\n",
    "\n",
    "* Подбор гиперпараметров традиционно осуществляется \"по сетке\" с помощью функции ***GridSearchCV***.\n",
    "\n",
    "GridSearchCV - это класс, который ищет с помощью кросс-валидации (CV) по сетке наилучшую комбинацию искомых параметров.\n",
    "\n",
    "*За что отвечает гиперпараметр С?*"
   ]
  },
  {
   "cell_type": "code",
   "execution_count": 10,
   "metadata": {
    "colab": {
     "base_uri": "https://localhost:8080/"
    },
    "executionInfo": {
     "elapsed": 1412,
     "status": "ok",
     "timestamp": 1696257244509,
     "user": {
      "displayName": "Alexandra Kogan",
      "userId": "12354497396341997205"
     },
     "user_tz": -180
    },
    "id": "RNwsoscDy0FS",
    "outputId": "81a988ae-7978-4df9-ca4a-cad0d2f589a5"
   },
   "outputs": [
    {
     "name": "stdout",
     "output_type": "stream",
     "text": [
      "best score: 0.9733333333333334\n",
      "best params: {'C': 1.0}\n"
     ]
    }
   ],
   "source": [
    "from sklearn.model_selection import GridSearchCV\n",
    "\n",
    "params = {'C': np.arange(0.1,1.1,0.1)}\n",
    "grid = GridSearchCV(model, params)\n",
    "\n",
    "grid.fit(X, y)\n",
    "\n",
    "print('best score:', grid.best_score_)\n",
    "print('best params:', grid.best_params_)"
   ]
  },
  {
   "cell_type": "markdown",
   "metadata": {
    "id": "1DWETueuy0FS"
   },
   "source": [
    "Задача уже решена очень хорошо. На этом можно ставить точку."
   ]
  },
  {
   "cell_type": "markdown",
   "metadata": {
    "id": "c8d2RDxwy0FT"
   },
   "source": [
    "## Задача 2: задача XOR."
   ]
  },
  {
   "cell_type": "markdown",
   "metadata": {
    "id": "1EpQXOl3y0FT"
   },
   "source": [
    "![How it works](XOR.png)"
   ]
  },
  {
   "cell_type": "markdown",
   "metadata": {
    "id": "ugPrsO-Fy0FT"
   },
   "source": [
    "Создадим данные для задачи XOR"
   ]
  },
  {
   "cell_type": "code",
   "execution_count": 16,
   "metadata": {
    "colab": {
     "base_uri": "https://localhost:8080/",
     "height": 430
    },
    "executionInfo": {
     "elapsed": 21,
     "status": "ok",
     "timestamp": 1696257244509,
     "user": {
      "displayName": "Alexandra Kogan",
      "userId": "12354497396341997205"
     },
     "user_tz": -180
    },
    "id": "Uw8OBIHqy0FT",
    "outputId": "597bf0e6-2553-4327-e8c8-47cec7210c87"
   },
   "outputs": [
    {
     "data": {
      "image/png": "[encoded data removed]",
      "text/plain": [
       "<Figure size 432x288 with 1 Axes>"
      ]
     },
     "metadata": {
      "needs_background": "light"
     },
     "output_type": "display_data"
    }
   ],
   "source": [
    "rng = np.random.RandomState(0)\n",
    "X = rng.randn(200, 2)\n",
    "y = np.logical_xor(X[:, 0] > 0, X[:, 1] > 0)\n",
    "\n",
    "plt.scatter(X[:, 0], X[:, 1], s=30, c=y, cmap=plt.cm.Paired);"
   ]
  },
  {
   "cell_type": "markdown",
   "metadata": {
    "id": "abeWZD2My0FT"
   },
   "source": [
    "Будем использовать функцию, которая рисует разделяющую границу, проведенную классификатором."
   ]
  },
  {
   "cell_type": "code",
   "execution_count": 17,
   "metadata": {
    "executionInfo": {
     "elapsed": 16,
     "status": "ok",
     "timestamp": 1696257244509,
     "user": {
      "displayName": "Alexandra Kogan",
      "userId": "12354497396341997205"
     },
     "user_tz": -180
    },
    "id": "lGiC6Q4Jy0FU"
   },
   "outputs": [],
   "source": [
    "def plot_boundary(clf, X, y, plot_title):\n",
    "    xx, yy = np.meshgrid(np.linspace(-3, 3, 50), np.linspace(-3, 3, 50))\n",
    "    clf.fit(X, y)\n",
    "    # plot the decision function for each datapoint on the grid\n",
    "    Z = clf.predict_proba(np.vstack((xx.ravel(), yy.ravel())).T)[:, 1]\n",
    "    Z = Z.reshape(xx.shape)\n",
    "\n",
    "    image = plt.imshow(Z, interpolation='nearest',\n",
    "                       extent=(xx.min(), xx.max(), yy.min(), yy.max()),\n",
    "                       aspect='auto', origin='lower', cmap=plt.cm.PuOr_r)\n",
    "    contours = plt.contour(xx, yy, Z, levels=[0], linewidths=2,\n",
    "                               linetypes='--')\n",
    "    plt.scatter(X[:, 0], X[:, 1], s=30, c=y, cmap=plt.cm.Paired)\n",
    "    plt.xticks(())\n",
    "    plt.yticks(())\n",
    "    plt.xlabel(r'$x_1$')\n",
    "    plt.ylabel(r'$x_2$')\n",
    "    plt.axis([-3, 3, -3, 3])\n",
    "    plt.colorbar(image)\n",
    "    plt.title(plot_title, fontsize=12);"
   ]
  },
  {
   "cell_type": "code",
   "execution_count": 13,
   "metadata": {
    "colab": {
     "base_uri": "https://localhost:8080/",
     "height": 448
    },
    "executionInfo": {
     "elapsed": 15,
     "status": "ok",
     "timestamp": 1696257244509,
     "user": {
      "displayName": "Alexandra Kogan",
      "userId": "12354497396341997205"
     },
     "user_tz": -180
    },
    "id": "3AdhWc-Ny0FU",
    "outputId": "ea537ea3-d60b-4a74-9ee7-9901d4e21052"
   },
   "outputs": [
    {
     "data": {
      "image/png": "[encoded data removed]",
      "text/plain": [
       "<Figure size 640x480 with 2 Axes>"
      ]
     },
     "metadata": {},
     "output_type": "display_data"
    }
   ],
   "source": [
    "plot_boundary(LogisticRegression(solver='lbfgs'), X, y, \"Logistic Regression, XOR problem\")"
   ]
  },
  {
   "cell_type": "markdown",
   "metadata": {
    "id": "9RUJu7bHy0FU"
   },
   "source": [
    "Оценим качество полученной классификации. Как виднно, она как-то плохо поделила. Часть синих засунула к коричневым, часть коричневых - к синим"
   ]
  },
  {
   "cell_type": "code",
   "execution_count": 14,
   "metadata": {
    "colab": {
     "base_uri": "https://localhost:8080/"
    },
    "executionInfo": {
     "elapsed": 14,
     "status": "ok",
     "timestamp": 1696257244510,
     "user": {
      "displayName": "Alexandra Kogan",
      "userId": "12354497396341997205"
     },
     "user_tz": -180
    },
    "id": "6Kp-rI97y0FU",
    "outputId": "885befb9-e70b-4147-d410-da786d9f9c25"
   },
   "outputs": [
    {
     "data": {
      "text/plain": [
       "0.4997738579828132"
      ]
     },
     "execution_count": 14,
     "metadata": {},
     "output_type": "execute_result"
    }
   ],
   "source": [
    "cross_val_score(model, X, y, cv=3, scoring='accuracy').mean()"
   ]
  },
  {
   "cell_type": "markdown",
   "metadata": {
    "id": "pzFy5EVqy0FU"
   },
   "source": [
    "Мы видим, что задача решена плохо. Попробуем подобрать гиперпараметр C в логистической регрессии."
   ]
  },
  {
   "cell_type": "code",
   "execution_count": 19,
   "metadata": {
    "colab": {
     "base_uri": "https://localhost:8080/"
    },
    "executionInfo": {
     "elapsed": 11,
     "status": "ok",
     "timestamp": 1696257244510,
     "user": {
      "displayName": "Alexandra Kogan",
      "userId": "12354497396341997205"
     },
     "user_tz": -180
    },
    "id": "LnrShkxJy0FU",
    "outputId": "35f79df8-b9de-4229-af32-f8f7671a4e01"
   },
   "outputs": [
    {
     "name": "stdout",
     "output_type": "stream",
     "text": [
      "best score: 0.5349999999999999\n",
      "best params: {'C': 0.5}\n"
     ]
    }
   ],
   "source": [
    "from sklearn.model_selection import GridSearchCV\n",
    "params = {'C': np.arange(0.1,1.1,0.1)}\n",
    "grid = GridSearchCV(model, params)\n",
    "\n",
    "grid.fit(X, y)\n",
    "\n",
    "print('best score:', grid.best_score_)\n",
    "print('best params:', grid.best_params_)"
   ]
  },
  {
   "cell_type": "markdown",
   "metadata": {
    "id": "aHM7JpBXy0FV"
   },
   "source": [
    "Видим, что подбор гиперпараметра не помог, и задача всё ещё решена плохо. Получается, что линейный классификатор (а именно, логистическая регрессия), плохо решает эту задачу. Это и понятно, ведь *данные нелинейные*.\n",
    "\n",
    "Попробуем добавить в качестве признаков полиномиальные признаки степени 2.\n",
    "\n",
    "Теперь у нас будут признаки не только $(1, x_1, x_2)$, но и $1, x_1, x_2, x_1^2, x_1x_2, x_2^2$.\n",
    "\n",
    "Будем использовать удобную функцию *Pipeline* для описания модели.\n",
    "\n",
    "***Pipeline***.\n",
    "* С помощью Pipeline можно соорудить модель, в которой кроме непосредственно применения некоторого алгоритма происходит какая-либо обработка данных.\n",
    "* В нашей задаче необходимо сначала извлечь полиномиальные признаки, а затем обучить логистическую регрессию. Эти два действия можно осуществить внутри одной \"комбинированной\" модели с помощью Pipeline."
   ]
  },
  {
   "cell_type": "code",
   "execution_count": 20,
   "metadata": {
    "executionInfo": {
     "elapsed": 10,
     "status": "ok",
     "timestamp": 1696257244510,
     "user": {
      "displayName": "Alexandra Kogan",
      "userId": "12354497396341997205"
     },
     "user_tz": -180
    },
    "id": "AIxxSOx7y0FV"
   },
   "outputs": [],
   "source": [
    "from sklearn.model_selection import GridSearchCV\n",
    "from sklearn.preprocessing import PolynomialFeatures\n",
    "from sklearn.pipeline import Pipeline\n",
    "\n",
    "logit_pipe = Pipeline([('poly', PolynomialFeatures(degree=2)),\n",
    "                       ('logit', LogisticRegression())])"
   ]
  },
  {
   "cell_type": "markdown",
   "metadata": {
    "id": "I4w1K_2uy0FV"
   },
   "source": [
    "Сразу найдем оптимальное значение гиперпараметра C с помощью GridSearchCV и оценим качество модели (на кросс-валидации)."
   ]
  },
  {
   "cell_type": "code",
   "execution_count": 21,
   "metadata": {
    "colab": {
     "base_uri": "https://localhost:8080/"
    },
    "executionInfo": {
     "elapsed": 729,
     "status": "ok",
     "timestamp": 1696257245230,
     "user": {
      "displayName": "Alexandra Kogan",
      "userId": "12354497396341997205"
     },
     "user_tz": -180
    },
    "id": "VnlFY48wy0FV",
    "outputId": "fe4461b9-18cc-4553-b4d3-969ce911e948"
   },
   "outputs": [
    {
     "name": "stdout",
     "output_type": "stream",
     "text": [
      "best score: 0.9301974973616765\n",
      "best params: {'logit__C': 0.30000000000000004}\n"
     ]
    }
   ],
   "source": [
    "params = {'logit__C': np.arange(0.1,1.1,0.1)}\n",
    "grid = GridSearchCV(logit_pipe, params, cv=3)\n",
    "\n",
    "grid.fit(X, y)\n",
    "\n",
    "print('best score:', grid.best_score_)\n",
    "print('best params:', grid.best_params_)"
   ]
  },
  {
   "cell_type": "code",
   "execution_count": 22,
   "metadata": {
    "colab": {
     "base_uri": "https://localhost:8080/",
     "height": 448
    },
    "executionInfo": {
     "elapsed": 7,
     "status": "ok",
     "timestamp": 1696257245230,
     "user": {
      "displayName": "Alexandra Kogan",
      "userId": "12354497396341997205"
     },
     "user_tz": -180
    },
    "id": "uHbUcjTVy0FV",
    "outputId": "43156405-fbeb-435a-ca12-01c8a8ab074b"
   },
   "outputs": [
    {
     "data": {
      "image/png": "[encoded data removed]",
      "text/plain": [
       "<Figure size 432x288 with 2 Axes>"
      ]
     },
     "metadata": {
      "needs_background": "light"
     },
     "output_type": "display_data"
    }
   ],
   "source": [
    "plot_boundary(logit_pipe, X, y,\n",
    "              \"Logistic Regression + quadratic features. XOR problem\")"
   ]
  },
  {
   "cell_type": "markdown",
   "metadata": {
    "id": "VT9rY4XWy0FW"
   },
   "source": [
    "* **Таким образом, при добавлении новых нелинейных признаков с помощью линейного классификатора можно решить линейно неразделимую задачу.**\n",
    "\n",
    "* **Другой способ решить такую задачу - сразу использовать нелинейные классификаторы (попробуем на следующих семинарах).**"
   ]
  }
 ],
 "metadata": {
  "colab": {
   "provenance": []
  },
  "kernelspec": {
   "display_name": "Python 3",
   "language": "python",
   "name": "python3"
  },
  "language_info": {
   "codemirror_mode": {
    "name": "ipython",
    "version": 3
   },
   "file_extension": ".py",
   "mimetype": "text/x-python",
   "name": "python",
   "nbconvert_exporter": "python",
   "pygments_lexer": "ipython3",
   "version": "3.8.5"
  }
 },
 "nbformat": 4,
 "nbformat_minor": 1
}
