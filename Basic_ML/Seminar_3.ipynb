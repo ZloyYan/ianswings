{
 "cells": [
  {
   "cell_type": "markdown",
   "metadata": {
    "id": "425068ca"
   },
   "source": [
    "#  План семинара\n",
    "\n",
    "1. Линейный классификатор в задаче бинарной классификации\n",
    "2. Кодирование категориальных признаков"
   ]
  },
  {
   "cell_type": "markdown",
   "metadata": {
    "id": "23f21f2d"
   },
   "source": [
    "## Задача бинарной классификации\n",
    "\n",
    "### Логистическая регрессия\n",
    "\n",
    "y = {-1, 1}\n",
    "\n",
    "$b(x) = \\sigma(<w,x>)$,\n",
    "\n",
    "где $\\sigma(z) = \\frac{1}{1 + e^{-z}}$\n",
    "\n",
    "То есть, мы предсказываем $P(y_i = 1| X_i)$ - вероятность того, что наблюдение принадлежит классу +1\n",
    "\n",
    "Обучаем с помощью функционала: Максимального лог правдоподобия (флэшбек из статистики)\n",
    "\n",
    "$Q(w) = -\\Sigma_{i=0}^{n}(y_i*log(b(x_i)) + (1 - y_i)log(1 - b(x_i))) \\rightarrow min_w$\n",
    "\n"
   ]
  },
  {
   "cell_type": "code",
   "execution_count": 2,
   "metadata": {
    "executionInfo": {
     "elapsed": 1705,
     "status": "ok",
     "timestamp": 1694972474834,
     "user": {
      "displayName": "Sergey Korpachev",
      "userId": "09181340988160569540"
     },
     "user_tz": -180
    },
    "id": "5b03c300"
   },
   "outputs": [],
   "source": [
    "import pandas as pd\n",
    "import numpy as np\n",
    "import seaborn as sns"
   ]
  },
  {
   "cell_type": "code",
   "execution_count": 3,
   "metadata": {
    "executionInfo": {
     "elapsed": 5,
     "status": "ok",
     "timestamp": 1694972474836,
     "user": {
      "displayName": "Sergey Korpachev",
      "userId": "09181340988160569540"
     },
     "user_tz": -180
    },
    "id": "dc2ae7be"
   },
   "outputs": [],
   "source": [
    "np.random.seed(42)"
   ]
  },
  {
   "cell_type": "code",
   "execution_count": 4,
   "metadata": {
    "executionInfo": {
     "elapsed": 829,
     "status": "ok",
     "timestamp": 1694972616471,
     "user": {
      "displayName": "Sergey Korpachev",
      "userId": "09181340988160569540"
     },
     "user_tz": -180
    },
    "id": "ca549dd9"
   },
   "outputs": [],
   "source": [
    "data = pd.read_csv('bike_buyers_clean.csv')"
   ]
  },
  {
   "cell_type": "code",
   "execution_count": 7,
   "metadata": {
    "colab": {
     "base_uri": "https://localhost:8080/",
     "height": 419
    },
    "executionInfo": {
     "elapsed": 263,
     "status": "ok",
     "timestamp": 1694972630270,
     "user": {
      "displayName": "Sergey Korpachev",
      "userId": "09181340988160569540"
     },
     "user_tz": -180
    },
    "id": "7de85d74",
    "outputId": "eb35eb9e-04ea-41bc-cb59-36620749f148"
   },
   "outputs": [
    {
     "data": {
      "text/html": [
       "<div>\n",
       "<style scoped>\n",
       "    .dataframe tbody tr th:only-of-type {\n",
       "        vertical-align: middle;\n",
       "    }\n",
       "\n",
       "    .dataframe tbody tr th {\n",
       "        vertical-align: top;\n",
       "    }\n",
       "\n",
       "    .dataframe thead th {\n",
       "        text-align: right;\n",
       "    }\n",
       "</style>\n",
       "<table border=\"1\" class=\"dataframe\">\n",
       "  <thead>\n",
       "    <tr style=\"text-align: right;\">\n",
       "      <th></th>\n",
       "      <th>ID</th>\n",
       "      <th>Marital Status</th>\n",
       "      <th>Gender</th>\n",
       "      <th>Income</th>\n",
       "      <th>Children</th>\n",
       "      <th>Education</th>\n",
       "      <th>Occupation</th>\n",
       "      <th>Home Owner</th>\n",
       "      <th>Cars</th>\n",
       "      <th>Commute Distance</th>\n",
       "      <th>Region</th>\n",
       "      <th>Age</th>\n",
       "      <th>Purchased Bike</th>\n",
       "    </tr>\n",
       "  </thead>\n",
       "  <tbody>\n",
       "    <tr>\n",
       "      <th>0</th>\n",
       "      <td>12496</td>\n",
       "      <td>Married</td>\n",
       "      <td>Female</td>\n",
       "      <td>40000</td>\n",
       "      <td>1</td>\n",
       "      <td>Bachelors</td>\n",
       "      <td>Skilled Manual</td>\n",
       "      <td>Yes</td>\n",
       "      <td>0</td>\n",
       "      <td>0-1 Miles</td>\n",
       "      <td>Europe</td>\n",
       "      <td>42</td>\n",
       "      <td>No</td>\n",
       "    </tr>\n",
       "    <tr>\n",
       "      <th>1</th>\n",
       "      <td>24107</td>\n",
       "      <td>Married</td>\n",
       "      <td>Male</td>\n",
       "      <td>30000</td>\n",
       "      <td>3</td>\n",
       "      <td>Partial College</td>\n",
       "      <td>Clerical</td>\n",
       "      <td>Yes</td>\n",
       "      <td>1</td>\n",
       "      <td>0-1 Miles</td>\n",
       "      <td>Europe</td>\n",
       "      <td>43</td>\n",
       "      <td>No</td>\n",
       "    </tr>\n",
       "    <tr>\n",
       "      <th>2</th>\n",
       "      <td>14177</td>\n",
       "      <td>Married</td>\n",
       "      <td>Male</td>\n",
       "      <td>80000</td>\n",
       "      <td>5</td>\n",
       "      <td>Partial College</td>\n",
       "      <td>Professional</td>\n",
       "      <td>No</td>\n",
       "      <td>2</td>\n",
       "      <td>2-5 Miles</td>\n",
       "      <td>Europe</td>\n",
       "      <td>60</td>\n",
       "      <td>No</td>\n",
       "    </tr>\n",
       "    <tr>\n",
       "      <th>3</th>\n",
       "      <td>24381</td>\n",
       "      <td>Single</td>\n",
       "      <td>Male</td>\n",
       "      <td>70000</td>\n",
       "      <td>0</td>\n",
       "      <td>Bachelors</td>\n",
       "      <td>Professional</td>\n",
       "      <td>Yes</td>\n",
       "      <td>1</td>\n",
       "      <td>5-10 Miles</td>\n",
       "      <td>Pacific</td>\n",
       "      <td>41</td>\n",
       "      <td>Yes</td>\n",
       "    </tr>\n",
       "    <tr>\n",
       "      <th>4</th>\n",
       "      <td>25597</td>\n",
       "      <td>Single</td>\n",
       "      <td>Male</td>\n",
       "      <td>30000</td>\n",
       "      <td>0</td>\n",
       "      <td>Bachelors</td>\n",
       "      <td>Clerical</td>\n",
       "      <td>No</td>\n",
       "      <td>0</td>\n",
       "      <td>0-1 Miles</td>\n",
       "      <td>Europe</td>\n",
       "      <td>36</td>\n",
       "      <td>Yes</td>\n",
       "    </tr>\n",
       "    <tr>\n",
       "      <th>...</th>\n",
       "      <td>...</td>\n",
       "      <td>...</td>\n",
       "      <td>...</td>\n",
       "      <td>...</td>\n",
       "      <td>...</td>\n",
       "      <td>...</td>\n",
       "      <td>...</td>\n",
       "      <td>...</td>\n",
       "      <td>...</td>\n",
       "      <td>...</td>\n",
       "      <td>...</td>\n",
       "      <td>...</td>\n",
       "      <td>...</td>\n",
       "    </tr>\n",
       "    <tr>\n",
       "      <th>995</th>\n",
       "      <td>23731</td>\n",
       "      <td>Married</td>\n",
       "      <td>Male</td>\n",
       "      <td>60000</td>\n",
       "      <td>2</td>\n",
       "      <td>High School</td>\n",
       "      <td>Professional</td>\n",
       "      <td>Yes</td>\n",
       "      <td>2</td>\n",
       "      <td>2-5 Miles</td>\n",
       "      <td>North America</td>\n",
       "      <td>54</td>\n",
       "      <td>Yes</td>\n",
       "    </tr>\n",
       "    <tr>\n",
       "      <th>996</th>\n",
       "      <td>28672</td>\n",
       "      <td>Single</td>\n",
       "      <td>Male</td>\n",
       "      <td>70000</td>\n",
       "      <td>4</td>\n",
       "      <td>Graduate Degree</td>\n",
       "      <td>Professional</td>\n",
       "      <td>Yes</td>\n",
       "      <td>0</td>\n",
       "      <td>2-5 Miles</td>\n",
       "      <td>North America</td>\n",
       "      <td>35</td>\n",
       "      <td>Yes</td>\n",
       "    </tr>\n",
       "    <tr>\n",
       "      <th>997</th>\n",
       "      <td>11809</td>\n",
       "      <td>Married</td>\n",
       "      <td>Male</td>\n",
       "      <td>60000</td>\n",
       "      <td>2</td>\n",
       "      <td>Bachelors</td>\n",
       "      <td>Skilled Manual</td>\n",
       "      <td>Yes</td>\n",
       "      <td>0</td>\n",
       "      <td>0-1 Miles</td>\n",
       "      <td>North America</td>\n",
       "      <td>38</td>\n",
       "      <td>Yes</td>\n",
       "    </tr>\n",
       "    <tr>\n",
       "      <th>998</th>\n",
       "      <td>19664</td>\n",
       "      <td>Single</td>\n",
       "      <td>Male</td>\n",
       "      <td>100000</td>\n",
       "      <td>3</td>\n",
       "      <td>Bachelors</td>\n",
       "      <td>Management</td>\n",
       "      <td>No</td>\n",
       "      <td>3</td>\n",
       "      <td>1-2 Miles</td>\n",
       "      <td>North America</td>\n",
       "      <td>38</td>\n",
       "      <td>No</td>\n",
       "    </tr>\n",
       "    <tr>\n",
       "      <th>999</th>\n",
       "      <td>12121</td>\n",
       "      <td>Single</td>\n",
       "      <td>Male</td>\n",
       "      <td>60000</td>\n",
       "      <td>3</td>\n",
       "      <td>High School</td>\n",
       "      <td>Professional</td>\n",
       "      <td>Yes</td>\n",
       "      <td>2</td>\n",
       "      <td>10+ Miles</td>\n",
       "      <td>North America</td>\n",
       "      <td>53</td>\n",
       "      <td>Yes</td>\n",
       "    </tr>\n",
       "  </tbody>\n",
       "</table>\n",
       "<p>1000 rows × 13 columns</p>\n",
       "</div>"
      ],
      "text/plain": [
       "        ID Marital Status  Gender  Income  Children        Education  \\\n",
       "0    12496        Married  Female   40000         1        Bachelors   \n",
       "1    24107        Married    Male   30000         3  Partial College   \n",
       "2    14177        Married    Male   80000         5  Partial College   \n",
       "3    24381         Single    Male   70000         0        Bachelors   \n",
       "4    25597         Single    Male   30000         0        Bachelors   \n",
       "..     ...            ...     ...     ...       ...              ...   \n",
       "995  23731        Married    Male   60000         2      High School   \n",
       "996  28672         Single    Male   70000         4  Graduate Degree   \n",
       "997  11809        Married    Male   60000         2        Bachelors   \n",
       "998  19664         Single    Male  100000         3        Bachelors   \n",
       "999  12121         Single    Male   60000         3      High School   \n",
       "\n",
       "         Occupation Home Owner  Cars Commute Distance         Region  Age  \\\n",
       "0    Skilled Manual        Yes     0        0-1 Miles         Europe   42   \n",
       "1          Clerical        Yes     1        0-1 Miles         Europe   43   \n",
       "2      Professional         No     2        2-5 Miles         Europe   60   \n",
       "3      Professional        Yes     1       5-10 Miles        Pacific   41   \n",
       "4          Clerical         No     0        0-1 Miles         Europe   36   \n",
       "..              ...        ...   ...              ...            ...  ...   \n",
       "995    Professional        Yes     2        2-5 Miles  North America   54   \n",
       "996    Professional        Yes     0        2-5 Miles  North America   35   \n",
       "997  Skilled Manual        Yes     0        0-1 Miles  North America   38   \n",
       "998      Management         No     3        1-2 Miles  North America   38   \n",
       "999    Professional        Yes     2        10+ Miles  North America   53   \n",
       "\n",
       "    Purchased Bike  \n",
       "0               No  \n",
       "1               No  \n",
       "2               No  \n",
       "3              Yes  \n",
       "4              Yes  \n",
       "..             ...  \n",
       "995            Yes  \n",
       "996            Yes  \n",
       "997            Yes  \n",
       "998             No  \n",
       "999            Yes  \n",
       "\n",
       "[1000 rows x 13 columns]"
      ]
     },
     "execution_count": 7,
     "metadata": {},
     "output_type": "execute_result"
    }
   ],
   "source": [
    "data"
   ]
  },
  {
   "cell_type": "markdown",
   "metadata": {
    "id": "0744a18c"
   },
   "source": [
    "# Обзор данных"
   ]
  },
  {
   "cell_type": "code",
   "execution_count": 8,
   "metadata": {
    "colab": {
     "base_uri": "https://localhost:8080/"
    },
    "executionInfo": {
     "elapsed": 239,
     "status": "ok",
     "timestamp": 1694972634431,
     "user": {
      "displayName": "Sergey Korpachev",
      "userId": "09181340988160569540"
     },
     "user_tz": -180
    },
    "id": "c846a338",
    "outputId": "f0ae1fa9-ef83-42fd-83c3-fda347929444"
   },
   "outputs": [
    {
     "data": {
      "text/plain": [
       "ID                   int64\n",
       "Marital Status      object\n",
       "Gender              object\n",
       "Income               int64\n",
       "Children             int64\n",
       "Education           object\n",
       "Occupation          object\n",
       "Home Owner          object\n",
       "Cars                 int64\n",
       "Commute Distance    object\n",
       "Region              object\n",
       "Age                  int64\n",
       "Purchased Bike      object\n",
       "dtype: object"
      ]
     },
     "execution_count": 8,
     "metadata": {},
     "output_type": "execute_result"
    }
   ],
   "source": [
    "# проверим типы колонок в датасете\n",
    "data.dtypes"
   ]
  },
  {
   "cell_type": "code",
   "execution_count": 9,
   "metadata": {
    "executionInfo": {
     "elapsed": 258,
     "status": "ok",
     "timestamp": 1694972637728,
     "user": {
      "displayName": "Sergey Korpachev",
      "userId": "09181340988160569540"
     },
     "user_tz": -180
    },
    "id": "6a4f289e"
   },
   "outputs": [],
   "source": [
    "X = data.iloc[:,:-1]\n",
    "X.drop(columns='ID', inplace=True)\n",
    "\n",
    "y = data['Purchased Bike'] # y это наша целевая переменная, купил ли велик. Видимо её надо преобразовать в 0 1"
   ]
  },
  {
   "cell_type": "raw",
   "metadata": {},
   "source": [
    "Дропнули ID, чтобы модель не пыталась по нему объяснить какую-то зависимость, потому что он бесполезный и никак не связан с данными"
   ]
  },
  {
   "cell_type": "code",
   "execution_count": 10,
   "metadata": {},
   "outputs": [
    {
     "data": {
      "text/plain": [
       "0       No\n",
       "1       No\n",
       "2       No\n",
       "3      Yes\n",
       "4      Yes\n",
       "      ... \n",
       "995    Yes\n",
       "996    Yes\n",
       "997    Yes\n",
       "998     No\n",
       "999    Yes\n",
       "Name: Purchased Bike, Length: 1000, dtype: object"
      ]
     },
     "execution_count": 10,
     "metadata": {},
     "output_type": "execute_result"
    }
   ],
   "source": [
    "y"
   ]
  },
  {
   "cell_type": "code",
   "execution_count": 11,
   "metadata": {
    "colab": {
     "base_uri": "https://localhost:8080/"
    },
    "executionInfo": {
     "elapsed": 240,
     "status": "ok",
     "timestamp": 1694972640677,
     "user": {
      "displayName": "Sergey Korpachev",
      "userId": "09181340988160569540"
     },
     "user_tz": -180
    },
    "id": "5c431d0d",
    "outputId": "e08b580c-0210-4d23-d740-fa55b2d0307c"
   },
   "outputs": [
    {
     "name": "stdout",
     "output_type": "stream",
     "text": [
      "We have 4 numeric columns: Income, Children, Cars, Age\n",
      "And 7 categorical columns: Marital Status, Gender, Education, Occupation, Home Owner, Commute Distance, Region\n"
     ]
    }
   ],
   "source": [
    "num_cols = X.columns[X.dtypes == 'int64'].tolist()\n",
    "cat_cols = X.columns[X.dtypes == 'object']\n",
    "\n",
    "print(f\"We have {len(num_cols)} numeric columns: {', '.join(num_cols)}\")\n",
    "print(f\"And {len(cat_cols)} categorical columns: {', '.join(cat_cols)}\")"
   ]
  },
  {
   "cell_type": "code",
   "execution_count": 12,
   "metadata": {
    "colab": {
     "base_uri": "https://localhost:8080/",
     "height": 782
    },
    "executionInfo": {
     "elapsed": 260,
     "status": "ok",
     "timestamp": 1694972643436,
     "user": {
      "displayName": "Sergey Korpachev",
      "userId": "09181340988160569540"
     },
     "user_tz": -180
    },
    "id": "4a849f7d",
    "outputId": "78e89e40-6f8b-4593-ed96-37bef8a5f7a7",
    "scrolled": false
   },
   "outputs": [
    {
     "name": "stdout",
     "output_type": "stream",
     "text": [
      "Marital Status\n"
     ]
    },
    {
     "data": {
      "text/plain": [
       "Married    0.539\n",
       "Single     0.461\n",
       "Name: Marital Status, dtype: float64"
      ]
     },
     "metadata": {},
     "output_type": "display_data"
    },
    {
     "name": "stdout",
     "output_type": "stream",
     "text": [
      "\n",
      "Gender\n"
     ]
    },
    {
     "data": {
      "text/plain": [
       "Male      0.509\n",
       "Female    0.491\n",
       "Name: Gender, dtype: float64"
      ]
     },
     "metadata": {},
     "output_type": "display_data"
    },
    {
     "name": "stdout",
     "output_type": "stream",
     "text": [
      "\n",
      "Education\n"
     ]
    },
    {
     "data": {
      "text/plain": [
       "Bachelors              0.306\n",
       "Partial College        0.265\n",
       "High School            0.179\n",
       "Graduate Degree        0.174\n",
       "Partial High School    0.076\n",
       "Name: Education, dtype: float64"
      ]
     },
     "metadata": {},
     "output_type": "display_data"
    },
    {
     "name": "stdout",
     "output_type": "stream",
     "text": [
      "\n",
      "Occupation\n"
     ]
    },
    {
     "data": {
      "text/plain": [
       "Professional      0.276\n",
       "Skilled Manual    0.255\n",
       "Clerical          0.177\n",
       "Management        0.173\n",
       "Manual            0.119\n",
       "Name: Occupation, dtype: float64"
      ]
     },
     "metadata": {},
     "output_type": "display_data"
    },
    {
     "name": "stdout",
     "output_type": "stream",
     "text": [
      "\n",
      "Home Owner\n"
     ]
    },
    {
     "data": {
      "text/plain": [
       "Yes    0.685\n",
       "No     0.315\n",
       "Name: Home Owner, dtype: float64"
      ]
     },
     "metadata": {},
     "output_type": "display_data"
    },
    {
     "name": "stdout",
     "output_type": "stream",
     "text": [
      "\n",
      "Commute Distance\n"
     ]
    },
    {
     "data": {
      "text/plain": [
       "0-1 Miles     0.366\n",
       "5-10 Miles    0.192\n",
       "1-2 Miles     0.169\n",
       "2-5 Miles     0.162\n",
       "10+ Miles     0.111\n",
       "Name: Commute Distance, dtype: float64"
      ]
     },
     "metadata": {},
     "output_type": "display_data"
    },
    {
     "name": "stdout",
     "output_type": "stream",
     "text": [
      "\n",
      "Region\n"
     ]
    },
    {
     "data": {
      "text/plain": [
       "North America    0.508\n",
       "Europe           0.300\n",
       "Pacific          0.192\n",
       "Name: Region, dtype: float64"
      ]
     },
     "metadata": {},
     "output_type": "display_data"
    },
    {
     "name": "stdout",
     "output_type": "stream",
     "text": [
      "\n"
     ]
    }
   ],
   "source": [
    "for col in cat_cols: # анализируем каждый Х чтобы понять как закодировать. Видимо какие-то бинарно кодируем, какие-то с помощью one hot encoding\n",
    "    print(col)\n",
    "    display(X[col].value_counts(normalize=True))\n",
    "    print()"
   ]
  },
  {
   "cell_type": "code",
   "execution_count": 13,
   "metadata": {
    "executionInfo": {
     "elapsed": 239,
     "status": "ok",
     "timestamp": 1694972647356,
     "user": {
      "displayName": "Sergey Korpachev",
      "userId": "09181340988160569540"
     },
     "user_tz": -180
    },
    "id": "9384e126"
   },
   "outputs": [],
   "source": [
    "# у нас есть категориальные переменные разных видов!\n",
    "\n",
    "binary_cols = cat_cols[X[cat_cols].nunique() == 2].tolist()\n",
    "ordinal_cols = ['Commute Distance', 'Education']\n",
    "cat_cols = cat_cols.difference(binary_cols + ordinal_cols).tolist()"
   ]
  },
  {
   "cell_type": "code",
   "execution_count": 14,
   "metadata": {
    "colab": {
     "base_uri": "https://localhost:8080/",
     "height": 765
    },
    "executionInfo": {
     "elapsed": 11,
     "status": "ok",
     "timestamp": 1694972649830,
     "user": {
      "displayName": "Sergey Korpachev",
      "userId": "09181340988160569540"
     },
     "user_tz": -180
    },
    "id": "afb1fa61",
    "outputId": "7f2df617-96fa-48df-cd02-616fcbf74f10",
    "scrolled": false
   },
   "outputs": [
    {
     "name": "stdout",
     "output_type": "stream",
     "text": [
      "Income\n"
     ]
    },
    {
     "data": {
      "text/plain": [
       "count      1000.000000\n",
       "mean      56140.000000\n",
       "std       31081.609779\n",
       "min       10000.000000\n",
       "25%       30000.000000\n",
       "50%       60000.000000\n",
       "75%       70000.000000\n",
       "max      170000.000000\n",
       "Name: Income, dtype: float64"
      ]
     },
     "metadata": {},
     "output_type": "display_data"
    },
    {
     "name": "stdout",
     "output_type": "stream",
     "text": [
      "\n",
      "Children\n"
     ]
    },
    {
     "data": {
      "text/plain": [
       "count    1000.000000\n",
       "mean        1.908000\n",
       "std         1.626094\n",
       "min         0.000000\n",
       "25%         0.000000\n",
       "50%         2.000000\n",
       "75%         3.000000\n",
       "max         5.000000\n",
       "Name: Children, dtype: float64"
      ]
     },
     "metadata": {},
     "output_type": "display_data"
    },
    {
     "name": "stdout",
     "output_type": "stream",
     "text": [
      "\n",
      "Cars\n"
     ]
    },
    {
     "data": {
      "text/plain": [
       "count    1000.000000\n",
       "mean        1.452000\n",
       "std         1.124705\n",
       "min         0.000000\n",
       "25%         1.000000\n",
       "50%         1.000000\n",
       "75%         2.000000\n",
       "max         4.000000\n",
       "Name: Cars, dtype: float64"
      ]
     },
     "metadata": {},
     "output_type": "display_data"
    },
    {
     "name": "stdout",
     "output_type": "stream",
     "text": [
      "\n",
      "Age\n"
     ]
    },
    {
     "data": {
      "text/plain": [
       "count    1000.000000\n",
       "mean       44.190000\n",
       "std        11.353537\n",
       "min        25.000000\n",
       "25%        35.000000\n",
       "50%        43.000000\n",
       "75%        52.000000\n",
       "max        89.000000\n",
       "Name: Age, dtype: float64"
      ]
     },
     "metadata": {},
     "output_type": "display_data"
    },
    {
     "name": "stdout",
     "output_type": "stream",
     "text": [
      "\n"
     ]
    }
   ],
   "source": [
    "for col in num_cols:\n",
    "    print(col)\n",
    "    display(X[col].describe())\n",
    "    print()"
   ]
  },
  {
   "cell_type": "code",
   "execution_count": 16,
   "metadata": {
    "colab": {
     "base_uri": "https://localhost:8080/",
     "height": 297
    },
    "executionInfo": {
     "elapsed": 284,
     "status": "ok",
     "timestamp": 1694972652736,
     "user": {
      "displayName": "Sergey Korpachev",
      "userId": "09181340988160569540"
     },
     "user_tz": -180
    },
    "id": "zlH86AHWOVBR",
    "outputId": "434a731c-172f-4891-d17a-37d211a8c2e4"
   },
   "outputs": [
    {
     "data": {
      "text/html": [
       "<div>\n",
       "<style scoped>\n",
       "    .dataframe tbody tr th:only-of-type {\n",
       "        vertical-align: middle;\n",
       "    }\n",
       "\n",
       "    .dataframe tbody tr th {\n",
       "        vertical-align: top;\n",
       "    }\n",
       "\n",
       "    .dataframe thead th {\n",
       "        text-align: right;\n",
       "    }\n",
       "</style>\n",
       "<table border=\"1\" class=\"dataframe\">\n",
       "  <thead>\n",
       "    <tr style=\"text-align: right;\">\n",
       "      <th></th>\n",
       "      <th>Income</th>\n",
       "      <th>Children</th>\n",
       "      <th>Cars</th>\n",
       "      <th>Age</th>\n",
       "    </tr>\n",
       "  </thead>\n",
       "  <tbody>\n",
       "    <tr>\n",
       "      <th>count</th>\n",
       "      <td>1000.000000</td>\n",
       "      <td>1000.000000</td>\n",
       "      <td>1000.000000</td>\n",
       "      <td>1000.000000</td>\n",
       "    </tr>\n",
       "    <tr>\n",
       "      <th>mean</th>\n",
       "      <td>56140.000000</td>\n",
       "      <td>1.908000</td>\n",
       "      <td>1.452000</td>\n",
       "      <td>44.190000</td>\n",
       "    </tr>\n",
       "    <tr>\n",
       "      <th>std</th>\n",
       "      <td>31081.609779</td>\n",
       "      <td>1.626094</td>\n",
       "      <td>1.124705</td>\n",
       "      <td>11.353537</td>\n",
       "    </tr>\n",
       "    <tr>\n",
       "      <th>min</th>\n",
       "      <td>10000.000000</td>\n",
       "      <td>0.000000</td>\n",
       "      <td>0.000000</td>\n",
       "      <td>25.000000</td>\n",
       "    </tr>\n",
       "    <tr>\n",
       "      <th>25%</th>\n",
       "      <td>30000.000000</td>\n",
       "      <td>0.000000</td>\n",
       "      <td>1.000000</td>\n",
       "      <td>35.000000</td>\n",
       "    </tr>\n",
       "    <tr>\n",
       "      <th>50%</th>\n",
       "      <td>60000.000000</td>\n",
       "      <td>2.000000</td>\n",
       "      <td>1.000000</td>\n",
       "      <td>43.000000</td>\n",
       "    </tr>\n",
       "    <tr>\n",
       "      <th>75%</th>\n",
       "      <td>70000.000000</td>\n",
       "      <td>3.000000</td>\n",
       "      <td>2.000000</td>\n",
       "      <td>52.000000</td>\n",
       "    </tr>\n",
       "    <tr>\n",
       "      <th>max</th>\n",
       "      <td>170000.000000</td>\n",
       "      <td>5.000000</td>\n",
       "      <td>4.000000</td>\n",
       "      <td>89.000000</td>\n",
       "    </tr>\n",
       "  </tbody>\n",
       "</table>\n",
       "</div>"
      ],
      "text/plain": [
       "              Income     Children         Cars          Age\n",
       "count    1000.000000  1000.000000  1000.000000  1000.000000\n",
       "mean    56140.000000     1.908000     1.452000    44.190000\n",
       "std     31081.609779     1.626094     1.124705    11.353537\n",
       "min     10000.000000     0.000000     0.000000    25.000000\n",
       "25%     30000.000000     0.000000     1.000000    35.000000\n",
       "50%     60000.000000     2.000000     1.000000    43.000000\n",
       "75%     70000.000000     3.000000     2.000000    52.000000\n",
       "max    170000.000000     5.000000     4.000000    89.000000"
      ]
     },
     "execution_count": 16,
     "metadata": {},
     "output_type": "execute_result"
    }
   ],
   "source": [
    "X.describe()"
   ]
  },
  {
   "cell_type": "code",
   "execution_count": 17,
   "metadata": {
    "colab": {
     "base_uri": "https://localhost:8080/"
    },
    "executionInfo": {
     "elapsed": 275,
     "status": "ok",
     "timestamp": 1694972655752,
     "user": {
      "displayName": "Sergey Korpachev",
      "userId": "09181340988160569540"
     },
     "user_tz": -180
    },
    "id": "5abb0d94",
    "outputId": "e4474976-e0c7-4798-b441-ce7441f90bbf"
   },
   "outputs": [
    {
     "data": {
      "text/plain": [
       "No     0.519\n",
       "Yes    0.481\n",
       "Name: Purchased Bike, dtype: float64"
      ]
     },
     "execution_count": 17,
     "metadata": {},
     "output_type": "execute_result"
    }
   ],
   "source": [
    "# classes are balanced !\n",
    "y.value_counts(normalize=True) # проверка баланса классов по покупке великов"
   ]
  },
  {
   "cell_type": "code",
   "execution_count": 18,
   "metadata": {
    "colab": {
     "base_uri": "https://localhost:8080/"
    },
    "executionInfo": {
     "elapsed": 6,
     "status": "ok",
     "timestamp": 1694972656869,
     "user": {
      "displayName": "Sergey Korpachev",
      "userId": "09181340988160569540"
     },
     "user_tz": -180
    },
    "id": "c47e44c2",
    "outputId": "c22f8647-8e23-4b46-bd61-0a3acbdefdef"
   },
   "outputs": [
    {
     "data": {
      "text/plain": [
       "0      0\n",
       "1      0\n",
       "2      0\n",
       "3      1\n",
       "4      1\n",
       "      ..\n",
       "995    1\n",
       "996    1\n",
       "997    1\n",
       "998    0\n",
       "999    1\n",
       "Name: Purchased Bike, Length: 1000, dtype: int64"
      ]
     },
     "execution_count": 18,
     "metadata": {},
     "output_type": "execute_result"
    }
   ],
   "source": [
    "# transform y to numeric column \n",
    "y = (y == 'Yes').astype(int) # ну и теперь закодировали бинарный признак в 0 1\n",
    "y"
   ]
  },
  {
   "cell_type": "markdown",
   "metadata": {
    "id": "97212af5"
   },
   "source": [
    "# Подготовка данных"
   ]
  },
  {
   "cell_type": "markdown",
   "metadata": {
    "id": "3b99eecf"
   },
   "source": [
    "## Кодирование категориальных признаков"
   ]
  },
  {
   "cell_type": "code",
   "execution_count": 21,
   "metadata": {
    "colab": {
     "base_uri": "https://localhost:8080/"
    },
    "executionInfo": {
     "elapsed": 7140,
     "status": "ok",
     "timestamp": 1694972684657,
     "user": {
      "displayName": "Sergey Korpachev",
      "userId": "09181340988160569540"
     },
     "user_tz": -180
    },
    "id": "21c340d0",
    "outputId": "57cda3f2-60b7-4612-e927-bef7b6eb2b3e"
   },
   "outputs": [
    {
     "name": "stdout",
     "output_type": "stream",
     "text": [
      "Collecting category_encoders\n",
      "  Downloading category_encoders-2.6.2-py2.py3-none-any.whl (81 kB)\n",
      "\u001b[K     |████████████████████████████████| 81 kB 1.3 MB/s eta 0:00:01\n",
      "\u001b[?25hRequirement already satisfied: pandas>=1.0.5 in /Users/yanik/opt/anaconda3/lib/python3.8/site-packages (from category_encoders) (1.1.3)\n",
      "Requirement already satisfied: numpy>=1.14.0 in /Users/yanik/opt/anaconda3/lib/python3.8/site-packages (from category_encoders) (1.19.2)\n",
      "Requirement already satisfied: scikit-learn>=0.20.0 in /Users/yanik/opt/anaconda3/lib/python3.8/site-packages (from category_encoders) (1.3.0)\n",
      "Requirement already satisfied: patsy>=0.5.1 in /Users/yanik/opt/anaconda3/lib/python3.8/site-packages (from category_encoders) (0.5.1)\n",
      "Collecting importlib-resources; python_version < \"3.9\"\n",
      "  Downloading importlib_resources-6.1.0-py3-none-any.whl (33 kB)\n",
      "Requirement already satisfied: scipy>=1.0.0 in /Users/yanik/opt/anaconda3/lib/python3.8/site-packages (from category_encoders) (1.5.2)\n",
      "Requirement already satisfied: statsmodels>=0.9.0 in /Users/yanik/opt/anaconda3/lib/python3.8/site-packages (from category_encoders) (0.12.0)\n",
      "Requirement already satisfied: python-dateutil>=2.7.3 in /Users/yanik/opt/anaconda3/lib/python3.8/site-packages (from pandas>=1.0.5->category_encoders) (2.8.1)\n",
      "Requirement already satisfied: pytz>=2017.2 in /Users/yanik/opt/anaconda3/lib/python3.8/site-packages (from pandas>=1.0.5->category_encoders) (2020.1)\n",
      "Requirement already satisfied: joblib>=1.1.1 in /Users/yanik/opt/anaconda3/lib/python3.8/site-packages (from scikit-learn>=0.20.0->category_encoders) (1.3.2)\n",
      "Requirement already satisfied: threadpoolctl>=2.0.0 in /Users/yanik/opt/anaconda3/lib/python3.8/site-packages (from scikit-learn>=0.20.0->category_encoders) (2.1.0)\n",
      "Requirement already satisfied: six in /Users/yanik/opt/anaconda3/lib/python3.8/site-packages (from patsy>=0.5.1->category_encoders) (1.15.0)\n",
      "Requirement already satisfied: zipp>=3.1.0; python_version < \"3.10\" in /Users/yanik/opt/anaconda3/lib/python3.8/site-packages (from importlib-resources; python_version < \"3.9\"->category_encoders) (3.4.0)\n",
      "Installing collected packages: importlib-resources, category-encoders\n",
      "Successfully installed category-encoders-2.6.2 importlib-resources-6.1.0\n"
     ]
    }
   ],
   "source": [
    "# run if not installed yet\n",
    "\n",
    "!pip install category_encoders"
   ]
  },
  {
   "cell_type": "code",
   "execution_count": 22,
   "metadata": {
    "executionInfo": {
     "elapsed": 1329,
     "status": "ok",
     "timestamp": 1694972693938,
     "user": {
      "displayName": "Sergey Korpachev",
      "userId": "09181340988160569540"
     },
     "user_tz": -180
    },
    "id": "e9ef0b6b"
   },
   "outputs": [],
   "source": [
    "from category_encoders.ordinal import OrdinalEncoder # LabelEncoder\n",
    "from category_encoders.one_hot import OneHotEncoder # OneHotEncoding\n",
    "from category_encoders.target_encoder import TargetEncoder # счетчики+сглаживание"
   ]
  },
  {
   "cell_type": "code",
   "execution_count": null,
   "metadata": {
    "colab": {
     "base_uri": "https://localhost:8080/"
    },
    "executionInfo": {
     "elapsed": 252,
     "status": "ok",
     "timestamp": 1694972697696,
     "user": {
      "displayName": "Sergey Korpachev",
      "userId": "09181340988160569540"
     },
     "user_tz": -180
    },
    "id": "10f5241d",
    "outputId": "e9119569-e983-48ac-cd5d-e9907cb1543c"
   },
   "outputs": [],
   "source": [
    "X['Education'].unique()"
   ]
  },
  {
   "cell_type": "code",
   "execution_count": 23,
   "metadata": {
    "colab": {
     "base_uri": "https://localhost:8080/",
     "height": 419
    },
    "executionInfo": {
     "elapsed": 6,
     "status": "ok",
     "timestamp": 1694972699746,
     "user": {
      "displayName": "Sergey Korpachev",
      "userId": "09181340988160569540"
     },
     "user_tz": -180
    },
    "id": "e65d03fb",
    "outputId": "a5cc18a5-aa4e-45f3-f4ff-0da0e884e255"
   },
   "outputs": [
    {
     "data": {
      "text/html": [
       "<div>\n",
       "<style scoped>\n",
       "    .dataframe tbody tr th:only-of-type {\n",
       "        vertical-align: middle;\n",
       "    }\n",
       "\n",
       "    .dataframe tbody tr th {\n",
       "        vertical-align: top;\n",
       "    }\n",
       "\n",
       "    .dataframe thead th {\n",
       "        text-align: right;\n",
       "    }\n",
       "</style>\n",
       "<table border=\"1\" class=\"dataframe\">\n",
       "  <thead>\n",
       "    <tr style=\"text-align: right;\">\n",
       "      <th></th>\n",
       "      <th>Education</th>\n",
       "    </tr>\n",
       "  </thead>\n",
       "  <tbody>\n",
       "    <tr>\n",
       "      <th>0</th>\n",
       "      <td>1</td>\n",
       "    </tr>\n",
       "    <tr>\n",
       "      <th>1</th>\n",
       "      <td>2</td>\n",
       "    </tr>\n",
       "    <tr>\n",
       "      <th>2</th>\n",
       "      <td>2</td>\n",
       "    </tr>\n",
       "    <tr>\n",
       "      <th>3</th>\n",
       "      <td>1</td>\n",
       "    </tr>\n",
       "    <tr>\n",
       "      <th>4</th>\n",
       "      <td>1</td>\n",
       "    </tr>\n",
       "    <tr>\n",
       "      <th>...</th>\n",
       "      <td>...</td>\n",
       "    </tr>\n",
       "    <tr>\n",
       "      <th>995</th>\n",
       "      <td>3</td>\n",
       "    </tr>\n",
       "    <tr>\n",
       "      <th>996</th>\n",
       "      <td>5</td>\n",
       "    </tr>\n",
       "    <tr>\n",
       "      <th>997</th>\n",
       "      <td>1</td>\n",
       "    </tr>\n",
       "    <tr>\n",
       "      <th>998</th>\n",
       "      <td>1</td>\n",
       "    </tr>\n",
       "    <tr>\n",
       "      <th>999</th>\n",
       "      <td>3</td>\n",
       "    </tr>\n",
       "  </tbody>\n",
       "</table>\n",
       "<p>1000 rows × 1 columns</p>\n",
       "</div>"
      ],
      "text/plain": [
       "     Education\n",
       "0            1\n",
       "1            2\n",
       "2            2\n",
       "3            1\n",
       "4            1\n",
       "..         ...\n",
       "995          3\n",
       "996          5\n",
       "997          1\n",
       "998          1\n",
       "999          3\n",
       "\n",
       "[1000 rows x 1 columns]"
      ]
     },
     "execution_count": 23,
     "metadata": {},
     "output_type": "execute_result"
    }
   ],
   "source": [
    "# Ordinal: from categories to numbers\n",
    "\n",
    "ord_enc = OrdinalEncoder()\n",
    "ord_enc.fit_transform(X['Education']) # это мы просто категоризировали в одной колонке все варианты признака"
   ]
  },
  {
   "cell_type": "code",
   "execution_count": 33,
   "metadata": {
    "colab": {
     "base_uri": "https://localhost:8080/",
     "height": 419
    },
    "executionInfo": {
     "elapsed": 281,
     "status": "ok",
     "timestamp": 1694972703501,
     "user": {
      "displayName": "Sergey Korpachev",
      "userId": "09181340988160569540"
     },
     "user_tz": -180
    },
    "id": "0cdc5709",
    "outputId": "a43dc4ea-6527-477c-9739-5510d4fadbec",
    "scrolled": false
   },
   "outputs": [
    {
     "data": {
      "text/html": [
       "<div>\n",
       "<style scoped>\n",
       "    .dataframe tbody tr th:only-of-type {\n",
       "        vertical-align: middle;\n",
       "    }\n",
       "\n",
       "    .dataframe tbody tr th {\n",
       "        vertical-align: top;\n",
       "    }\n",
       "\n",
       "    .dataframe thead th {\n",
       "        text-align: right;\n",
       "    }\n",
       "</style>\n",
       "<table border=\"1\" class=\"dataframe\">\n",
       "  <thead>\n",
       "    <tr style=\"text-align: right;\">\n",
       "      <th></th>\n",
       "      <th>0</th>\n",
       "      <th>1</th>\n",
       "      <th>2</th>\n",
       "      <th>3</th>\n",
       "    </tr>\n",
       "  </thead>\n",
       "  <tbody>\n",
       "    <tr>\n",
       "      <th>0</th>\n",
       "      <td>0.0</td>\n",
       "      <td>0.0</td>\n",
       "      <td>0.0</td>\n",
       "      <td>0.0</td>\n",
       "    </tr>\n",
       "    <tr>\n",
       "      <th>1</th>\n",
       "      <td>0.0</td>\n",
       "      <td>0.0</td>\n",
       "      <td>1.0</td>\n",
       "      <td>0.0</td>\n",
       "    </tr>\n",
       "    <tr>\n",
       "      <th>2</th>\n",
       "      <td>0.0</td>\n",
       "      <td>0.0</td>\n",
       "      <td>1.0</td>\n",
       "      <td>0.0</td>\n",
       "    </tr>\n",
       "    <tr>\n",
       "      <th>3</th>\n",
       "      <td>0.0</td>\n",
       "      <td>0.0</td>\n",
       "      <td>0.0</td>\n",
       "      <td>0.0</td>\n",
       "    </tr>\n",
       "    <tr>\n",
       "      <th>4</th>\n",
       "      <td>0.0</td>\n",
       "      <td>0.0</td>\n",
       "      <td>0.0</td>\n",
       "      <td>0.0</td>\n",
       "    </tr>\n",
       "    <tr>\n",
       "      <th>...</th>\n",
       "      <td>...</td>\n",
       "      <td>...</td>\n",
       "      <td>...</td>\n",
       "      <td>...</td>\n",
       "    </tr>\n",
       "    <tr>\n",
       "      <th>995</th>\n",
       "      <td>0.0</td>\n",
       "      <td>1.0</td>\n",
       "      <td>0.0</td>\n",
       "      <td>0.0</td>\n",
       "    </tr>\n",
       "    <tr>\n",
       "      <th>996</th>\n",
       "      <td>1.0</td>\n",
       "      <td>0.0</td>\n",
       "      <td>0.0</td>\n",
       "      <td>0.0</td>\n",
       "    </tr>\n",
       "    <tr>\n",
       "      <th>997</th>\n",
       "      <td>0.0</td>\n",
       "      <td>0.0</td>\n",
       "      <td>0.0</td>\n",
       "      <td>0.0</td>\n",
       "    </tr>\n",
       "    <tr>\n",
       "      <th>998</th>\n",
       "      <td>0.0</td>\n",
       "      <td>0.0</td>\n",
       "      <td>0.0</td>\n",
       "      <td>0.0</td>\n",
       "    </tr>\n",
       "    <tr>\n",
       "      <th>999</th>\n",
       "      <td>0.0</td>\n",
       "      <td>1.0</td>\n",
       "      <td>0.0</td>\n",
       "      <td>0.0</td>\n",
       "    </tr>\n",
       "  </tbody>\n",
       "</table>\n",
       "<p>1000 rows × 4 columns</p>\n",
       "</div>"
      ],
      "text/plain": [
       "       0    1    2    3\n",
       "0    0.0  0.0  0.0  0.0\n",
       "1    0.0  0.0  1.0  0.0\n",
       "2    0.0  0.0  1.0  0.0\n",
       "3    0.0  0.0  0.0  0.0\n",
       "4    0.0  0.0  0.0  0.0\n",
       "..   ...  ...  ...  ...\n",
       "995  0.0  1.0  0.0  0.0\n",
       "996  1.0  0.0  0.0  0.0\n",
       "997  0.0  0.0  0.0  0.0\n",
       "998  0.0  0.0  0.0  0.0\n",
       "999  0.0  1.0  0.0  0.0\n",
       "\n",
       "[1000 rows x 4 columns]"
      ]
     },
     "execution_count": 33,
     "metadata": {},
     "output_type": "execute_result"
    }
   ],
   "source": [
    "# One hot: from k categories to k dummy columns\n",
    "from sklearn.preprocessing import OneHotEncoder\n",
    "one_hot_enc = OneHotEncoder(drop='first')\n",
    "\n",
    "x = one_hot_enc.fit_transform(X[['Education']]) # разряженная матрица - раскидывает массив по столбцам 1 и 0 \n",
    "# * fit -> определить количество новых столбцов (по кол-ву категорий)\n",
    "# * transform -> создать новые столбцы\n",
    "# * fit_transform = fit + transform\n",
    "\n",
    "# Нужно ли удалять какую-то из колонок после такого кодирования ? - нужно \n",
    "\n",
    "pd.DataFrame.sparse.from_spmatrix(x)"
   ]
  },
  {
   "cell_type": "markdown",
   "metadata": {
    "id": "ecc35c64"
   },
   "source": [
    "Target encoding вычисляет значения по формуле\n",
    "\n",
    "$$\\frac{mean(target)\\cdot n_{rows} + \\alpha \\cdot globalMean}{n_{rows} + \\alpha} $$"
   ]
  },
  {
   "cell_type": "code",
   "execution_count": 34,
   "metadata": {
    "colab": {
     "base_uri": "https://localhost:8080/",
     "height": 419
    },
    "executionInfo": {
     "elapsed": 241,
     "status": "ok",
     "timestamp": 1694972719813,
     "user": {
      "displayName": "Sergey Korpachev",
      "userId": "09181340988160569540"
     },
     "user_tz": -180
    },
    "id": "e1327a3e",
    "outputId": "f8ddfacd-6f71-45de-ed10-382265b7c32f"
   },
   "outputs": [
    {
     "data": {
      "text/html": [
       "<div>\n",
       "<style scoped>\n",
       "    .dataframe tbody tr th:only-of-type {\n",
       "        vertical-align: middle;\n",
       "    }\n",
       "\n",
       "    .dataframe tbody tr th {\n",
       "        vertical-align: top;\n",
       "    }\n",
       "\n",
       "    .dataframe thead th {\n",
       "        text-align: right;\n",
       "    }\n",
       "</style>\n",
       "<table border=\"1\" class=\"dataframe\">\n",
       "  <thead>\n",
       "    <tr style=\"text-align: right;\">\n",
       "      <th></th>\n",
       "      <th>Education</th>\n",
       "    </tr>\n",
       "  </thead>\n",
       "  <tbody>\n",
       "    <tr>\n",
       "      <th>0</th>\n",
       "      <td>0.552288</td>\n",
       "    </tr>\n",
       "    <tr>\n",
       "      <th>1</th>\n",
       "      <td>0.449057</td>\n",
       "    </tr>\n",
       "    <tr>\n",
       "      <th>2</th>\n",
       "      <td>0.449057</td>\n",
       "    </tr>\n",
       "    <tr>\n",
       "      <th>3</th>\n",
       "      <td>0.552288</td>\n",
       "    </tr>\n",
       "    <tr>\n",
       "      <th>4</th>\n",
       "      <td>0.552288</td>\n",
       "    </tr>\n",
       "    <tr>\n",
       "      <th>...</th>\n",
       "      <td>...</td>\n",
       "    </tr>\n",
       "    <tr>\n",
       "      <th>995</th>\n",
       "      <td>0.441341</td>\n",
       "    </tr>\n",
       "    <tr>\n",
       "      <th>996</th>\n",
       "      <td>0.540230</td>\n",
       "    </tr>\n",
       "    <tr>\n",
       "      <th>997</th>\n",
       "      <td>0.552288</td>\n",
       "    </tr>\n",
       "    <tr>\n",
       "      <th>998</th>\n",
       "      <td>0.552288</td>\n",
       "    </tr>\n",
       "    <tr>\n",
       "      <th>999</th>\n",
       "      <td>0.441341</td>\n",
       "    </tr>\n",
       "  </tbody>\n",
       "</table>\n",
       "<p>1000 rows × 1 columns</p>\n",
       "</div>"
      ],
      "text/plain": [
       "     Education\n",
       "0     0.552288\n",
       "1     0.449057\n",
       "2     0.449057\n",
       "3     0.552288\n",
       "4     0.552288\n",
       "..         ...\n",
       "995   0.441341\n",
       "996   0.540230\n",
       "997   0.552288\n",
       "998   0.552288\n",
       "999   0.441341\n",
       "\n",
       "[1000 rows x 1 columns]"
      ]
     },
     "execution_count": 34,
     "metadata": {},
     "output_type": "execute_result"
    }
   ],
   "source": [
    "# target encoding: from k categories to posterior probabilites of y == 1 - P(y==1 | category == c1)\n",
    "\n",
    "tgt_enc = TargetEncoder(smoothing=1)\n",
    "\n",
    "# smoothing - это коэффициент сглаживания alpha, чем он больше, тем больше регуляризация\n",
    "\n",
    "tgt_enc.fit_transform(X['Education'], y)"
   ]
  },
  {
   "cell_type": "code",
   "execution_count": 35,
   "metadata": {
    "colab": {
     "base_uri": "https://localhost:8080/",
     "height": 419
    },
    "executionInfo": {
     "elapsed": 372,
     "status": "ok",
     "timestamp": 1694972735318,
     "user": {
      "displayName": "Sergey Korpachev",
      "userId": "09181340988160569540"
     },
     "user_tz": -180
    },
    "id": "78773e3e",
    "outputId": "b7c15915-bf88-4568-8513-7596e01502be"
   },
   "outputs": [
    {
     "data": {
      "text/html": [
       "<div>\n",
       "<style scoped>\n",
       "    .dataframe tbody tr th:only-of-type {\n",
       "        vertical-align: middle;\n",
       "    }\n",
       "\n",
       "    .dataframe tbody tr th {\n",
       "        vertical-align: top;\n",
       "    }\n",
       "\n",
       "    .dataframe thead th {\n",
       "        text-align: right;\n",
       "    }\n",
       "</style>\n",
       "<table border=\"1\" class=\"dataframe\">\n",
       "  <thead>\n",
       "    <tr style=\"text-align: right;\">\n",
       "      <th></th>\n",
       "      <th>Marital Status</th>\n",
       "      <th>Gender</th>\n",
       "      <th>Income</th>\n",
       "      <th>Children</th>\n",
       "      <th>Education</th>\n",
       "      <th>Occupation</th>\n",
       "      <th>Home Owner</th>\n",
       "      <th>Cars</th>\n",
       "      <th>Commute Distance</th>\n",
       "      <th>Region</th>\n",
       "      <th>Age</th>\n",
       "    </tr>\n",
       "  </thead>\n",
       "  <tbody>\n",
       "    <tr>\n",
       "      <th>0</th>\n",
       "      <td>Married</td>\n",
       "      <td>0.486762</td>\n",
       "      <td>40000</td>\n",
       "      <td>1</td>\n",
       "      <td>0.552288</td>\n",
       "      <td>Skilled Manual</td>\n",
       "      <td>Yes</td>\n",
       "      <td>0</td>\n",
       "      <td>0-1 Miles</td>\n",
       "      <td>0.493333</td>\n",
       "      <td>42</td>\n",
       "    </tr>\n",
       "    <tr>\n",
       "      <th>1</th>\n",
       "      <td>Married</td>\n",
       "      <td>0.475442</td>\n",
       "      <td>30000</td>\n",
       "      <td>3</td>\n",
       "      <td>0.449057</td>\n",
       "      <td>Clerical</td>\n",
       "      <td>Yes</td>\n",
       "      <td>1</td>\n",
       "      <td>0-1 Miles</td>\n",
       "      <td>0.493333</td>\n",
       "      <td>43</td>\n",
       "    </tr>\n",
       "    <tr>\n",
       "      <th>2</th>\n",
       "      <td>Married</td>\n",
       "      <td>0.475442</td>\n",
       "      <td>80000</td>\n",
       "      <td>5</td>\n",
       "      <td>0.449057</td>\n",
       "      <td>Professional</td>\n",
       "      <td>No</td>\n",
       "      <td>2</td>\n",
       "      <td>2-5 Miles</td>\n",
       "      <td>0.493333</td>\n",
       "      <td>60</td>\n",
       "    </tr>\n",
       "    <tr>\n",
       "      <th>3</th>\n",
       "      <td>Single</td>\n",
       "      <td>0.475442</td>\n",
       "      <td>70000</td>\n",
       "      <td>0</td>\n",
       "      <td>0.552288</td>\n",
       "      <td>Professional</td>\n",
       "      <td>Yes</td>\n",
       "      <td>1</td>\n",
       "      <td>5-10 Miles</td>\n",
       "      <td>0.588542</td>\n",
       "      <td>41</td>\n",
       "    </tr>\n",
       "    <tr>\n",
       "      <th>4</th>\n",
       "      <td>Single</td>\n",
       "      <td>0.475442</td>\n",
       "      <td>30000</td>\n",
       "      <td>0</td>\n",
       "      <td>0.552288</td>\n",
       "      <td>Clerical</td>\n",
       "      <td>No</td>\n",
       "      <td>0</td>\n",
       "      <td>0-1 Miles</td>\n",
       "      <td>0.493333</td>\n",
       "      <td>36</td>\n",
       "    </tr>\n",
       "    <tr>\n",
       "      <th>...</th>\n",
       "      <td>...</td>\n",
       "      <td>...</td>\n",
       "      <td>...</td>\n",
       "      <td>...</td>\n",
       "      <td>...</td>\n",
       "      <td>...</td>\n",
       "      <td>...</td>\n",
       "      <td>...</td>\n",
       "      <td>...</td>\n",
       "      <td>...</td>\n",
       "      <td>...</td>\n",
       "    </tr>\n",
       "    <tr>\n",
       "      <th>995</th>\n",
       "      <td>Married</td>\n",
       "      <td>0.475442</td>\n",
       "      <td>60000</td>\n",
       "      <td>2</td>\n",
       "      <td>0.441341</td>\n",
       "      <td>Professional</td>\n",
       "      <td>Yes</td>\n",
       "      <td>2</td>\n",
       "      <td>2-5 Miles</td>\n",
       "      <td>0.433071</td>\n",
       "      <td>54</td>\n",
       "    </tr>\n",
       "    <tr>\n",
       "      <th>996</th>\n",
       "      <td>Single</td>\n",
       "      <td>0.475442</td>\n",
       "      <td>70000</td>\n",
       "      <td>4</td>\n",
       "      <td>0.540230</td>\n",
       "      <td>Professional</td>\n",
       "      <td>Yes</td>\n",
       "      <td>0</td>\n",
       "      <td>2-5 Miles</td>\n",
       "      <td>0.433071</td>\n",
       "      <td>35</td>\n",
       "    </tr>\n",
       "    <tr>\n",
       "      <th>997</th>\n",
       "      <td>Married</td>\n",
       "      <td>0.475442</td>\n",
       "      <td>60000</td>\n",
       "      <td>2</td>\n",
       "      <td>0.552288</td>\n",
       "      <td>Skilled Manual</td>\n",
       "      <td>Yes</td>\n",
       "      <td>0</td>\n",
       "      <td>0-1 Miles</td>\n",
       "      <td>0.433071</td>\n",
       "      <td>38</td>\n",
       "    </tr>\n",
       "    <tr>\n",
       "      <th>998</th>\n",
       "      <td>Single</td>\n",
       "      <td>0.475442</td>\n",
       "      <td>100000</td>\n",
       "      <td>3</td>\n",
       "      <td>0.552288</td>\n",
       "      <td>Management</td>\n",
       "      <td>No</td>\n",
       "      <td>3</td>\n",
       "      <td>1-2 Miles</td>\n",
       "      <td>0.433071</td>\n",
       "      <td>38</td>\n",
       "    </tr>\n",
       "    <tr>\n",
       "      <th>999</th>\n",
       "      <td>Single</td>\n",
       "      <td>0.475442</td>\n",
       "      <td>60000</td>\n",
       "      <td>3</td>\n",
       "      <td>0.441341</td>\n",
       "      <td>Professional</td>\n",
       "      <td>Yes</td>\n",
       "      <td>2</td>\n",
       "      <td>10+ Miles</td>\n",
       "      <td>0.433071</td>\n",
       "      <td>53</td>\n",
       "    </tr>\n",
       "  </tbody>\n",
       "</table>\n",
       "<p>1000 rows × 11 columns</p>\n",
       "</div>"
      ],
      "text/plain": [
       "    Marital Status    Gender  Income  Children  Education      Occupation  \\\n",
       "0          Married  0.486762   40000         1   0.552288  Skilled Manual   \n",
       "1          Married  0.475442   30000         3   0.449057        Clerical   \n",
       "2          Married  0.475442   80000         5   0.449057    Professional   \n",
       "3           Single  0.475442   70000         0   0.552288    Professional   \n",
       "4           Single  0.475442   30000         0   0.552288        Clerical   \n",
       "..             ...       ...     ...       ...        ...             ...   \n",
       "995        Married  0.475442   60000         2   0.441341    Professional   \n",
       "996         Single  0.475442   70000         4   0.540230    Professional   \n",
       "997        Married  0.475442   60000         2   0.552288  Skilled Manual   \n",
       "998         Single  0.475442  100000         3   0.552288      Management   \n",
       "999         Single  0.475442   60000         3   0.441341    Professional   \n",
       "\n",
       "    Home Owner  Cars Commute Distance    Region  Age  \n",
       "0          Yes     0        0-1 Miles  0.493333   42  \n",
       "1          Yes     1        0-1 Miles  0.493333   43  \n",
       "2           No     2        2-5 Miles  0.493333   60  \n",
       "3          Yes     1       5-10 Miles  0.588542   41  \n",
       "4           No     0        0-1 Miles  0.493333   36  \n",
       "..         ...   ...              ...       ...  ...  \n",
       "995        Yes     2        2-5 Miles  0.433071   54  \n",
       "996        Yes     0        2-5 Miles  0.433071   35  \n",
       "997        Yes     0        0-1 Miles  0.433071   38  \n",
       "998         No     3        1-2 Miles  0.433071   38  \n",
       "999        Yes     2        10+ Miles  0.433071   53  \n",
       "\n",
       "[1000 rows x 11 columns]"
      ]
     },
     "execution_count": 35,
     "metadata": {},
     "output_type": "execute_result"
    }
   ],
   "source": [
    "# энкодер можно применять сразу на весь датафрейм\n",
    "\n",
    "tgt_enc = TargetEncoder(cols=['Education', 'Gender', 'Region'])\n",
    "tgt_enc.fit_transform(X, y)"
   ]
  },
  {
   "cell_type": "markdown",
   "metadata": {
    "id": "9db464ee"
   },
   "source": [
    "Помимо сглаживания, для борьбы с переобучением при таргет энкодинге в лекции предлагались и другие методы\n",
    "\n",
    "- Добавление случайного шума\n",
    "- Вычисление счетчиков на кросс-валидации\n",
    "- Expanding mean encoding\n",
    "\n",
    "Первые две идеи реализованы в классе LeaveOneOut\n",
    "\n",
    "- значения считаются на основе кросс-валидации вида leave one out (то есть значение энкодинга для конкретного наблюдения будет считаться по всем наблюдениям, кроме этого)\n",
    "- параметр sigma отвечает за дисперсию случайного шума, который добавляется к значению энкодинга (чем больше sigma, тем больше регуляризация)"
   ]
  },
  {
   "cell_type": "code",
   "execution_count": 36,
   "metadata": {
    "colab": {
     "base_uri": "https://localhost:8080/",
     "height": 419
    },
    "executionInfo": {
     "elapsed": 253,
     "status": "ok",
     "timestamp": 1694972740911,
     "user": {
      "displayName": "Sergey Korpachev",
      "userId": "09181340988160569540"
     },
     "user_tz": -180
    },
    "id": "b1a7b993",
    "outputId": "e571d8e5-fad4-4f86-a9ba-adde53bbb141"
   },
   "outputs": [
    {
     "data": {
      "text/html": [
       "<div>\n",
       "<style scoped>\n",
       "    .dataframe tbody tr th:only-of-type {\n",
       "        vertical-align: middle;\n",
       "    }\n",
       "\n",
       "    .dataframe tbody tr th {\n",
       "        vertical-align: top;\n",
       "    }\n",
       "\n",
       "    .dataframe thead th {\n",
       "        text-align: right;\n",
       "    }\n",
       "</style>\n",
       "<table border=\"1\" class=\"dataframe\">\n",
       "  <thead>\n",
       "    <tr style=\"text-align: right;\">\n",
       "      <th></th>\n",
       "      <th>Education</th>\n",
       "    </tr>\n",
       "  </thead>\n",
       "  <tbody>\n",
       "    <tr>\n",
       "      <th>0</th>\n",
       "      <td>1.379784</td>\n",
       "    </tr>\n",
       "    <tr>\n",
       "      <th>1</th>\n",
       "      <td>0.263787</td>\n",
       "    </tr>\n",
       "    <tr>\n",
       "      <th>2</th>\n",
       "      <td>1.326609</td>\n",
       "    </tr>\n",
       "    <tr>\n",
       "      <th>3</th>\n",
       "      <td>3.067564</td>\n",
       "    </tr>\n",
       "    <tr>\n",
       "      <th>4</th>\n",
       "      <td>0.163891</td>\n",
       "    </tr>\n",
       "    <tr>\n",
       "      <th>...</th>\n",
       "      <td>...</td>\n",
       "    </tr>\n",
       "    <tr>\n",
       "      <th>995</th>\n",
       "      <td>0.068666</td>\n",
       "    </tr>\n",
       "    <tr>\n",
       "      <th>996</th>\n",
       "      <td>3.436731</td>\n",
       "    </tr>\n",
       "    <tr>\n",
       "      <th>997</th>\n",
       "      <td>1.609786</td>\n",
       "    </tr>\n",
       "    <tr>\n",
       "      <th>998</th>\n",
       "      <td>-0.395370</td>\n",
       "    </tr>\n",
       "    <tr>\n",
       "      <th>999</th>\n",
       "      <td>1.190923</td>\n",
       "    </tr>\n",
       "  </tbody>\n",
       "</table>\n",
       "<p>1000 rows × 1 columns</p>\n",
       "</div>"
      ],
      "text/plain": [
       "     Education\n",
       "0     1.379784\n",
       "1     0.263787\n",
       "2     1.326609\n",
       "3     3.067564\n",
       "4     0.163891\n",
       "..         ...\n",
       "995   0.068666\n",
       "996   3.436731\n",
       "997   1.609786\n",
       "998  -0.395370\n",
       "999   1.190923\n",
       "\n",
       "[1000 rows x 1 columns]"
      ]
     },
     "execution_count": 36,
     "metadata": {},
     "output_type": "execute_result"
    }
   ],
   "source": [
    "from category_encoders.leave_one_out import LeaveOneOutEncoder\n",
    "\n",
    "loo_enc = LeaveOneOutEncoder(sigma=3.)\n",
    "\n",
    "loo_enc.fit_transform(X['Education'], y)"
   ]
  },
  {
   "cell_type": "markdown",
   "metadata": {
    "id": "1f77f2cb"
   },
   "source": [
    "## Масштабирование числовых признаков"
   ]
  },
  {
   "cell_type": "code",
   "execution_count": 48,
   "metadata": {
    "colab": {
     "base_uri": "https://localhost:8080/"
    },
    "executionInfo": {
     "elapsed": 261,
     "status": "ok",
     "timestamp": 1694972744331,
     "user": {
      "displayName": "Sergey Korpachev",
      "userId": "09181340988160569540"
     },
     "user_tz": -180
    },
    "id": "91ecd400",
    "outputId": "423141a1-779b-41ed-8a9b-ae8891eb12c2"
   },
   "outputs": [
    {
     "data": {
      "text/plain": [
       "0       40000\n",
       "1       30000\n",
       "2       80000\n",
       "3       70000\n",
       "4       30000\n",
       "        ...  \n",
       "995     60000\n",
       "996     70000\n",
       "997     60000\n",
       "998    100000\n",
       "999     60000\n",
       "Name: Income, Length: 1000, dtype: int64"
      ]
     },
     "execution_count": 48,
     "metadata": {},
     "output_type": "execute_result"
    }
   ],
   "source": [
    "X['Income']"
   ]
  },
  {
   "cell_type": "code",
   "execution_count": 49,
   "metadata": {
    "colab": {
     "base_uri": "https://localhost:8080/"
    },
    "executionInfo": {
     "elapsed": 371,
     "status": "ok",
     "timestamp": 1694972746917,
     "user": {
      "displayName": "Sergey Korpachev",
      "userId": "09181340988160569540"
     },
     "user_tz": -180
    },
    "id": "2aba0cc6",
    "outputId": "73138ca3-967e-40d8-8cf4-f2192aae81fb"
   },
   "outputs": [
    {
     "data": {
      "text/plain": [
       "array([[-0.51953796],\n",
       "       [-0.8414326 ],\n",
       "       [ 0.76804062],\n",
       "       [ 0.44614598],\n",
       "       [-0.8414326 ],\n",
       "       [-1.48522189],\n",
       "       [ 3.34319779],\n",
       "       [-0.51953796],\n",
       "       [-1.16332725],\n",
       "       [-1.16332725],\n",
       "       [-0.8414326 ],\n",
       "       [ 1.08993527],\n",
       "       [ 3.66509243],\n",
       "       [-0.51953796],\n",
       "       [ 0.12425133],\n",
       "       [-1.48522189],\n",
       "       [-0.8414326 ],\n",
       "       [-0.8414326 ],\n",
       "       [-0.51953796],\n",
       "       [-1.16332725],\n",
       "       [-0.51953796],\n",
       "       [ 0.76804062],\n",
       "       [-0.51953796],\n",
       "       [ 0.76804062],\n",
       "       [-0.51953796],\n",
       "       [-0.8414326 ],\n",
       "       [-0.8414326 ],\n",
       "       [ 1.41182991],\n",
       "       [ 0.44614598],\n",
       "       [-1.16332725],\n",
       "       [-1.16332725],\n",
       "       [-1.48522189],\n",
       "       [-1.16332725],\n",
       "       [ 0.76804062],\n",
       "       [ 1.08993527],\n",
       "       [-1.48522189],\n",
       "       [-1.48522189],\n",
       "       [-0.8414326 ],\n",
       "       [-1.16332725],\n",
       "       [-1.48522189],\n",
       "       [-0.8414326 ],\n",
       "       [-0.51953796],\n",
       "       [-1.48522189],\n",
       "       [ 3.66509243],\n",
       "       [-1.16332725],\n",
       "       [-1.16332725],\n",
       "       [ 0.12425133],\n",
       "       [-0.51953796],\n",
       "       [-0.8414326 ],\n",
       "       [-0.51953796],\n",
       "       [-0.8414326 ],\n",
       "       [ 0.76804062],\n",
       "       [-1.16332725],\n",
       "       [ 1.08993527],\n",
       "       [ 0.44614598],\n",
       "       [ 0.76804062],\n",
       "       [-0.51953796],\n",
       "       [ 2.37751385],\n",
       "       [-0.51953796],\n",
       "       [ 0.12425133],\n",
       "       [-1.48522189],\n",
       "       [-1.48522189],\n",
       "       [-0.51953796],\n",
       "       [ 0.12425133],\n",
       "       [-0.8414326 ],\n",
       "       [-0.8414326 ],\n",
       "       [-0.51953796],\n",
       "       [-0.8414326 ],\n",
       "       [-1.16332725],\n",
       "       [-1.48522189],\n",
       "       [ 2.0556192 ],\n",
       "       [-1.48522189],\n",
       "       [ 2.37751385],\n",
       "       [-1.16332725],\n",
       "       [-1.16332725],\n",
       "       [ 2.37751385],\n",
       "       [-1.16332725],\n",
       "       [ 0.76804062],\n",
       "       [ 0.76804062],\n",
       "       [-0.51953796],\n",
       "       [-0.8414326 ],\n",
       "       [-1.48522189],\n",
       "       [-0.8414326 ],\n",
       "       [-1.16332725],\n",
       "       [-0.51953796],\n",
       "       [-1.48522189],\n",
       "       [ 2.37751385],\n",
       "       [ 0.76804062],\n",
       "       [-0.8414326 ],\n",
       "       [-1.16332725],\n",
       "       [-0.8414326 ],\n",
       "       [-0.8414326 ],\n",
       "       [ 0.12425133],\n",
       "       [-0.8414326 ],\n",
       "       [-0.8414326 ],\n",
       "       [ 1.08993527],\n",
       "       [-0.8414326 ],\n",
       "       [-0.51953796],\n",
       "       [-0.51953796],\n",
       "       [-1.16332725],\n",
       "       [-1.48522189],\n",
       "       [ 0.12425133],\n",
       "       [-1.48522189],\n",
       "       [ 0.12425133],\n",
       "       [ 0.44614598],\n",
       "       [-0.8414326 ],\n",
       "       [ 0.44614598],\n",
       "       [-0.51953796],\n",
       "       [-0.51953796],\n",
       "       [-0.51953796],\n",
       "       [-1.16332725],\n",
       "       [ 0.44614598],\n",
       "       [-0.51953796],\n",
       "       [ 2.37751385],\n",
       "       [-1.16332725],\n",
       "       [-1.48522189],\n",
       "       [-0.8414326 ],\n",
       "       [-1.16332725],\n",
       "       [ 0.76804062],\n",
       "       [-0.8414326 ],\n",
       "       [-0.51953796],\n",
       "       [ 3.02130314],\n",
       "       [ 0.76804062],\n",
       "       [ 1.41182991],\n",
       "       [-0.51953796],\n",
       "       [ 0.76804062],\n",
       "       [-0.8414326 ],\n",
       "       [-0.8414326 ],\n",
       "       [-1.48522189],\n",
       "       [-1.48522189],\n",
       "       [ 0.12425133],\n",
       "       [ 1.08993527],\n",
       "       [-0.51953796],\n",
       "       [-0.51953796],\n",
       "       [-0.8414326 ],\n",
       "       [-1.48522189],\n",
       "       [-1.48522189],\n",
       "       [-1.16332725],\n",
       "       [-1.16332725],\n",
       "       [-0.8414326 ],\n",
       "       [-0.51953796],\n",
       "       [-1.48522189],\n",
       "       [-0.51953796],\n",
       "       [ 0.76804062],\n",
       "       [-0.8414326 ],\n",
       "       [-0.51953796],\n",
       "       [-0.51953796],\n",
       "       [-0.51953796],\n",
       "       [-1.16332725],\n",
       "       [-0.8414326 ],\n",
       "       [ 0.12425133],\n",
       "       [ 1.41182991],\n",
       "       [-1.16332725],\n",
       "       [ 1.41182991],\n",
       "       [ 0.76804062],\n",
       "       [-1.48522189],\n",
       "       [ 2.37751385],\n",
       "       [-1.48522189],\n",
       "       [-1.16332725],\n",
       "       [-1.48522189],\n",
       "       [ 0.12425133],\n",
       "       [-1.16332725],\n",
       "       [ 0.12425133],\n",
       "       [-0.51953796],\n",
       "       [-1.48522189],\n",
       "       [-1.48522189],\n",
       "       [ 1.08993527],\n",
       "       [ 1.41182991],\n",
       "       [ 0.44614598],\n",
       "       [-0.8414326 ],\n",
       "       [ 2.37751385],\n",
       "       [ 0.76804062],\n",
       "       [-1.48522189],\n",
       "       [-1.48522189],\n",
       "       [-0.19764331],\n",
       "       [ 0.76804062],\n",
       "       [-1.16332725],\n",
       "       [ 1.73372456],\n",
       "       [ 3.34319779],\n",
       "       [-1.48522189],\n",
       "       [-1.48522189],\n",
       "       [-0.8414326 ],\n",
       "       [-1.48522189],\n",
       "       [-0.51953796],\n",
       "       [ 2.37751385],\n",
       "       [ 1.08993527],\n",
       "       [-0.8414326 ],\n",
       "       [ 0.76804062],\n",
       "       [ 0.44614598],\n",
       "       [-0.8414326 ],\n",
       "       [-0.8414326 ],\n",
       "       [-1.48522189],\n",
       "       [ 0.76804062],\n",
       "       [ 0.44614598],\n",
       "       [-1.48522189],\n",
       "       [-1.16332725],\n",
       "       [-0.19764331],\n",
       "       [ 0.12425133],\n",
       "       [ 1.41182991],\n",
       "       [ 0.76804062],\n",
       "       [ 0.12425133],\n",
       "       [-1.48522189],\n",
       "       [-0.51953796],\n",
       "       [ 0.12425133],\n",
       "       [ 1.08993527],\n",
       "       [-0.8414326 ],\n",
       "       [ 1.08993527],\n",
       "       [-1.16332725],\n",
       "       [-0.51953796],\n",
       "       [-0.8414326 ],\n",
       "       [ 0.76804062],\n",
       "       [-0.19764331],\n",
       "       [-0.8414326 ],\n",
       "       [ 0.44614598],\n",
       "       [-0.8414326 ],\n",
       "       [ 0.76804062],\n",
       "       [-1.16332725],\n",
       "       [-1.16332725],\n",
       "       [-1.48522189],\n",
       "       [-1.48522189],\n",
       "       [ 0.12425133],\n",
       "       [-1.48522189],\n",
       "       [-0.8414326 ],\n",
       "       [ 0.44614598],\n",
       "       [-0.8414326 ],\n",
       "       [-1.16332725],\n",
       "       [-1.16332725],\n",
       "       [-1.48522189],\n",
       "       [-1.16332725],\n",
       "       [ 0.76804062],\n",
       "       [ 2.0556192 ],\n",
       "       [-0.51953796],\n",
       "       [-0.8414326 ],\n",
       "       [-1.16332725],\n",
       "       [ 1.08993527],\n",
       "       [-1.48522189],\n",
       "       [-0.8414326 ],\n",
       "       [-1.48522189],\n",
       "       [ 0.44614598],\n",
       "       [-0.8414326 ],\n",
       "       [-1.48522189],\n",
       "       [-0.8414326 ],\n",
       "       [-0.8414326 ],\n",
       "       [-1.16332725],\n",
       "       [ 2.0556192 ],\n",
       "       [ 1.73372456],\n",
       "       [ 2.37751385],\n",
       "       [ 1.41182991],\n",
       "       [-1.48522189],\n",
       "       [ 0.44614598],\n",
       "       [ 1.41182991],\n",
       "       [ 2.37751385],\n",
       "       [ 0.12425133],\n",
       "       [ 1.41182991],\n",
       "       [-1.16332725],\n",
       "       [-0.8414326 ],\n",
       "       [-1.16332725],\n",
       "       [-0.19764331],\n",
       "       [ 1.41182991],\n",
       "       [ 3.02130314],\n",
       "       [-0.8414326 ],\n",
       "       [-0.51953796],\n",
       "       [-1.48522189],\n",
       "       [ 0.44614598],\n",
       "       [-0.51953796],\n",
       "       [-0.8414326 ],\n",
       "       [-1.16332725],\n",
       "       [ 1.41182991],\n",
       "       [ 0.44614598],\n",
       "       [-0.19764331],\n",
       "       [-1.48522189],\n",
       "       [-1.16332725],\n",
       "       [-1.48522189],\n",
       "       [-1.16332725],\n",
       "       [-0.8414326 ],\n",
       "       [ 1.08993527],\n",
       "       [-1.48522189],\n",
       "       [-1.48522189],\n",
       "       [ 1.41182991],\n",
       "       [-0.8414326 ],\n",
       "       [-1.48522189],\n",
       "       [-1.16332725],\n",
       "       [-1.48522189],\n",
       "       [ 0.44614598],\n",
       "       [-1.48522189],\n",
       "       [ 0.12425133],\n",
       "       [ 1.41182991],\n",
       "       [-0.8414326 ],\n",
       "       [ 2.37751385],\n",
       "       [-0.8414326 ],\n",
       "       [ 0.12425133],\n",
       "       [-0.51953796],\n",
       "       [-0.51953796],\n",
       "       [-1.48522189],\n",
       "       [-1.16332725],\n",
       "       [ 1.73372456],\n",
       "       [ 0.12425133],\n",
       "       [ 1.41182991],\n",
       "       [ 1.08993527],\n",
       "       [-0.8414326 ],\n",
       "       [-1.48522189],\n",
       "       [-1.16332725],\n",
       "       [-0.8414326 ],\n",
       "       [-0.8414326 ],\n",
       "       [ 0.76804062],\n",
       "       [-1.48522189],\n",
       "       [ 1.08993527],\n",
       "       [-1.48522189],\n",
       "       [-0.51953796],\n",
       "       [-1.16332725],\n",
       "       [ 2.0556192 ],\n",
       "       [ 0.12425133],\n",
       "       [-1.16332725],\n",
       "       [-0.51953796],\n",
       "       [ 0.76804062],\n",
       "       [ 0.44614598],\n",
       "       [-0.19764331],\n",
       "       [-0.8414326 ],\n",
       "       [ 2.37751385],\n",
       "       [-0.8414326 ],\n",
       "       [ 1.41182991],\n",
       "       [ 3.34319779],\n",
       "       [-1.48522189],\n",
       "       [-0.51953796],\n",
       "       [ 1.08993527],\n",
       "       [-0.51953796],\n",
       "       [-1.16332725],\n",
       "       [-0.8414326 ],\n",
       "       [-0.51953796],\n",
       "       [ 1.08993527],\n",
       "       [ 0.76804062],\n",
       "       [-1.48522189],\n",
       "       [-1.16332725],\n",
       "       [ 2.37751385],\n",
       "       [ 1.08993527],\n",
       "       [ 0.76804062],\n",
       "       [-1.16332725],\n",
       "       [-1.48522189],\n",
       "       [ 2.0556192 ],\n",
       "       [-1.16332725],\n",
       "       [-0.8414326 ],\n",
       "       [-0.8414326 ],\n",
       "       [-1.48522189],\n",
       "       [-0.8414326 ],\n",
       "       [-0.8414326 ],\n",
       "       [-1.16332725],\n",
       "       [-0.51953796],\n",
       "       [ 0.12425133],\n",
       "       [-1.16332725],\n",
       "       [-0.8414326 ],\n",
       "       [-1.16332725],\n",
       "       [-1.48522189],\n",
       "       [ 0.76804062],\n",
       "       [-0.51953796],\n",
       "       [-0.8414326 ],\n",
       "       [ 0.76804062],\n",
       "       [ 3.02130314],\n",
       "       [-1.48522189],\n",
       "       [ 1.08993527],\n",
       "       [ 0.76804062],\n",
       "       [ 2.37751385],\n",
       "       [-0.8414326 ],\n",
       "       [-0.51953796],\n",
       "       [-0.51953796],\n",
       "       [-1.48522189],\n",
       "       [-0.51953796],\n",
       "       [ 0.12425133],\n",
       "       [ 2.37751385],\n",
       "       [-0.8414326 ],\n",
       "       [-1.16332725],\n",
       "       [ 1.41182991],\n",
       "       [ 0.76804062],\n",
       "       [-0.51953796],\n",
       "       [-1.16332725],\n",
       "       [ 0.76804062],\n",
       "       [-0.51953796],\n",
       "       [-1.16332725],\n",
       "       [ 2.37751385],\n",
       "       [-0.8414326 ],\n",
       "       [ 0.12425133],\n",
       "       [ 0.44614598],\n",
       "       [-0.8414326 ],\n",
       "       [ 0.76804062],\n",
       "       [-0.51953796],\n",
       "       [-1.48522189],\n",
       "       [-0.8414326 ],\n",
       "       [ 2.0556192 ],\n",
       "       [-1.16332725],\n",
       "       [-0.8414326 ],\n",
       "       [ 0.76804062],\n",
       "       [ 0.44614598],\n",
       "       [ 0.44614598],\n",
       "       [-1.16332725],\n",
       "       [-1.48522189],\n",
       "       [-0.51953796],\n",
       "       [-0.8414326 ],\n",
       "       [ 0.12425133],\n",
       "       [-1.48522189],\n",
       "       [-0.8414326 ],\n",
       "       [-0.51953796],\n",
       "       [ 1.73372456],\n",
       "       [-0.51953796],\n",
       "       [-1.48522189],\n",
       "       [-1.16332725],\n",
       "       [-0.8414326 ],\n",
       "       [-0.8414326 ],\n",
       "       [-0.51953796],\n",
       "       [ 1.08993527],\n",
       "       [-0.51953796],\n",
       "       [ 2.37751385],\n",
       "       [-1.16332725],\n",
       "       [ 0.44614598],\n",
       "       [-0.51953796],\n",
       "       [-0.8414326 ],\n",
       "       [-0.51953796],\n",
       "       [ 0.76804062],\n",
       "       [ 0.12425133],\n",
       "       [-0.8414326 ],\n",
       "       [-0.8414326 ],\n",
       "       [-1.48522189],\n",
       "       [ 1.41182991],\n",
       "       [-1.48522189],\n",
       "       [ 1.73372456],\n",
       "       [-0.8414326 ],\n",
       "       [-1.48522189],\n",
       "       [-0.51953796],\n",
       "       [-0.8414326 ],\n",
       "       [ 1.08993527],\n",
       "       [ 1.73372456],\n",
       "       [-0.8414326 ],\n",
       "       [-0.8414326 ],\n",
       "       [-1.16332725],\n",
       "       [ 1.73372456],\n",
       "       [-0.8414326 ],\n",
       "       [-0.8414326 ],\n",
       "       [-1.48522189],\n",
       "       [ 0.76804062],\n",
       "       [-0.8414326 ],\n",
       "       [ 0.76804062],\n",
       "       [ 0.44614598],\n",
       "       [ 1.08993527],\n",
       "       [ 0.76804062],\n",
       "       [ 0.76804062],\n",
       "       [-0.51953796],\n",
       "       [-0.8414326 ],\n",
       "       [-0.51953796],\n",
       "       [ 2.37751385],\n",
       "       [-0.51953796],\n",
       "       [-0.8414326 ],\n",
       "       [-0.51953796],\n",
       "       [-1.48522189],\n",
       "       [-0.51953796],\n",
       "       [-0.8414326 ],\n",
       "       [ 0.44614598],\n",
       "       [-0.8414326 ],\n",
       "       [ 0.76804062],\n",
       "       [ 2.0556192 ],\n",
       "       [-1.16332725],\n",
       "       [ 2.0556192 ],\n",
       "       [ 0.76804062],\n",
       "       [-1.16332725],\n",
       "       [ 2.0556192 ],\n",
       "       [-0.51953796],\n",
       "       [-1.16332725],\n",
       "       [-0.8414326 ],\n",
       "       [-0.51953796],\n",
       "       [-0.8414326 ],\n",
       "       [ 1.41182991],\n",
       "       [ 0.76804062],\n",
       "       [-0.8414326 ],\n",
       "       [-0.8414326 ],\n",
       "       [ 0.44614598],\n",
       "       [-0.51953796],\n",
       "       [-0.8414326 ],\n",
       "       [ 1.08993527],\n",
       "       [-1.16332725],\n",
       "       [ 0.44614598],\n",
       "       [ 0.44614598],\n",
       "       [-0.8414326 ],\n",
       "       [-0.51953796],\n",
       "       [ 1.08993527],\n",
       "       [-0.51953796],\n",
       "       [-0.51953796],\n",
       "       [-1.48522189],\n",
       "       [-0.8414326 ],\n",
       "       [-0.8414326 ],\n",
       "       [ 1.08993527],\n",
       "       [-0.51953796],\n",
       "       [-1.48522189],\n",
       "       [-1.16332725],\n",
       "       [ 0.12425133],\n",
       "       [ 0.44614598],\n",
       "       [-0.51953796],\n",
       "       [ 0.44614598],\n",
       "       [ 0.44614598],\n",
       "       [ 0.12425133],\n",
       "       [ 0.12425133],\n",
       "       [ 0.44614598],\n",
       "       [ 0.76804062],\n",
       "       [-0.51953796],\n",
       "       [ 0.12425133],\n",
       "       [-0.19764331],\n",
       "       [-0.51953796],\n",
       "       [ 2.37751385],\n",
       "       [ 0.44614598],\n",
       "       [ 1.41182991],\n",
       "       [ 0.44614598],\n",
       "       [-0.51953796],\n",
       "       [ 0.12425133],\n",
       "       [ 0.12425133],\n",
       "       [ 0.44614598],\n",
       "       [ 0.76804062],\n",
       "       [ 0.12425133],\n",
       "       [ 0.12425133],\n",
       "       [-0.51953796],\n",
       "       [ 0.44614598],\n",
       "       [ 0.12425133],\n",
       "       [ 0.12425133],\n",
       "       [ 0.76804062],\n",
       "       [ 0.76804062],\n",
       "       [ 1.41182991],\n",
       "       [-0.51953796],\n",
       "       [ 0.12425133],\n",
       "       [ 0.76804062],\n",
       "       [ 0.76804062],\n",
       "       [ 0.12425133],\n",
       "       [ 1.73372456],\n",
       "       [-0.19764331],\n",
       "       [-0.8414326 ],\n",
       "       [ 0.12425133],\n",
       "       [ 0.12425133],\n",
       "       [-0.8414326 ],\n",
       "       [ 0.12425133],\n",
       "       [ 0.12425133],\n",
       "       [-0.51953796],\n",
       "       [-0.19764331],\n",
       "       [ 0.76804062],\n",
       "       [-0.51953796],\n",
       "       [ 0.76804062],\n",
       "       [ 0.44614598],\n",
       "       [ 0.44614598],\n",
       "       [-0.19764331],\n",
       "       [-0.51953796],\n",
       "       [ 0.44614598],\n",
       "       [ 2.0556192 ],\n",
       "       [ 0.12425133],\n",
       "       [ 0.12425133],\n",
       "       [ 0.12425133],\n",
       "       [ 0.76804062],\n",
       "       [ 2.37751385],\n",
       "       [ 0.44614598],\n",
       "       [-0.19764331],\n",
       "       [ 0.12425133],\n",
       "       [-0.51953796],\n",
       "       [ 0.12425133],\n",
       "       [-0.19764331],\n",
       "       [ 0.76804062],\n",
       "       [-0.51953796],\n",
       "       [-0.19764331],\n",
       "       [ 0.12425133],\n",
       "       [ 0.12425133],\n",
       "       [-1.16332725],\n",
       "       [ 0.44614598],\n",
       "       [-0.8414326 ],\n",
       "       [-0.8414326 ],\n",
       "       [-0.51953796],\n",
       "       [ 0.12425133],\n",
       "       [-0.51953796],\n",
       "       [ 0.44614598],\n",
       "       [-0.19764331],\n",
       "       [ 0.44614598],\n",
       "       [-0.51953796],\n",
       "       [-0.8414326 ],\n",
       "       [ 0.12425133],\n",
       "       [ 0.76804062],\n",
       "       [ 0.12425133],\n",
       "       [-0.51953796],\n",
       "       [ 2.0556192 ],\n",
       "       [ 0.12425133],\n",
       "       [-0.51953796],\n",
       "       [ 0.12425133],\n",
       "       [-0.51953796],\n",
       "       [ 0.76804062],\n",
       "       [ 0.12425133],\n",
       "       [ 0.44614598],\n",
       "       [ 2.0556192 ],\n",
       "       [ 0.12425133],\n",
       "       [ 2.37751385],\n",
       "       [ 1.08993527],\n",
       "       [ 0.12425133],\n",
       "       [ 0.12425133],\n",
       "       [-0.51953796],\n",
       "       [ 0.76804062],\n",
       "       [ 0.44614598],\n",
       "       [ 0.76804062],\n",
       "       [-1.16332725],\n",
       "       [ 1.08993527],\n",
       "       [-0.51953796],\n",
       "       [ 2.37751385],\n",
       "       [ 0.12425133],\n",
       "       [-0.8414326 ],\n",
       "       [ 0.76804062],\n",
       "       [ 0.12425133],\n",
       "       [ 0.12425133],\n",
       "       [-0.51953796],\n",
       "       [ 0.44614598],\n",
       "       [-0.51953796],\n",
       "       [ 0.44614598],\n",
       "       [ 0.12425133],\n",
       "       [ 0.44614598],\n",
       "       [ 0.12425133],\n",
       "       [ 0.76804062],\n",
       "       [-0.8414326 ],\n",
       "       [ 1.73372456],\n",
       "       [ 1.41182991],\n",
       "       [ 0.12425133],\n",
       "       [ 0.76804062],\n",
       "       [-0.51953796],\n",
       "       [-1.16332725],\n",
       "       [-0.51953796],\n",
       "       [ 1.41182991],\n",
       "       [ 0.44614598],\n",
       "       [ 0.12425133],\n",
       "       [ 0.44614598],\n",
       "       [ 0.44614598],\n",
       "       [ 0.12425133],\n",
       "       [ 0.12425133],\n",
       "       [ 0.12425133],\n",
       "       [ 0.76804062],\n",
       "       [-0.19764331],\n",
       "       [-0.51953796],\n",
       "       [ 0.44614598],\n",
       "       [ 0.76804062],\n",
       "       [ 2.37751385],\n",
       "       [ 0.12425133],\n",
       "       [-0.8414326 ],\n",
       "       [ 2.0556192 ],\n",
       "       [-0.51953796],\n",
       "       [ 0.44614598],\n",
       "       [ 1.41182991],\n",
       "       [ 0.12425133],\n",
       "       [-0.19764331],\n",
       "       [ 0.44614598],\n",
       "       [ 0.44614598],\n",
       "       [ 0.12425133],\n",
       "       [ 0.12425133],\n",
       "       [ 0.12425133],\n",
       "       [-0.51953796],\n",
       "       [ 0.44614598],\n",
       "       [ 0.44614598],\n",
       "       [ 0.44614598],\n",
       "       [ 0.12425133],\n",
       "       [ 0.44614598],\n",
       "       [-0.8414326 ],\n",
       "       [-0.51953796],\n",
       "       [-0.51953796],\n",
       "       [ 0.12425133],\n",
       "       [ 0.44614598],\n",
       "       [-0.19764331],\n",
       "       [ 0.12425133],\n",
       "       [ 0.12425133],\n",
       "       [-0.51953796],\n",
       "       [ 1.41182991],\n",
       "       [ 0.44614598],\n",
       "       [ 0.76804062],\n",
       "       [ 2.37751385],\n",
       "       [ 0.12425133],\n",
       "       [-0.51953796],\n",
       "       [ 0.12425133],\n",
       "       [ 0.12425133],\n",
       "       [ 0.44614598],\n",
       "       [ 0.12425133],\n",
       "       [-0.51953796],\n",
       "       [ 0.44614598],\n",
       "       [-0.8414326 ],\n",
       "       [ 1.41182991],\n",
       "       [-0.51953796],\n",
       "       [ 0.12425133],\n",
       "       [ 0.76804062],\n",
       "       [ 0.12425133],\n",
       "       [ 0.12425133],\n",
       "       [ 0.76804062],\n",
       "       [-1.16332725],\n",
       "       [ 1.08993527],\n",
       "       [ 0.12425133],\n",
       "       [ 0.12425133],\n",
       "       [-0.51953796],\n",
       "       [-0.8414326 ],\n",
       "       [ 0.12425133],\n",
       "       [-0.8414326 ],\n",
       "       [ 2.37751385],\n",
       "       [-0.19764331],\n",
       "       [ 0.44614598],\n",
       "       [ 0.12425133],\n",
       "       [ 0.76804062],\n",
       "       [ 0.76804062],\n",
       "       [ 0.12425133],\n",
       "       [-0.8414326 ],\n",
       "       [-1.16332725],\n",
       "       [ 1.08993527],\n",
       "       [ 0.44614598],\n",
       "       [-0.8414326 ],\n",
       "       [ 2.0556192 ],\n",
       "       [-0.19764331],\n",
       "       [-0.51953796],\n",
       "       [ 0.44614598],\n",
       "       [ 0.12425133],\n",
       "       [ 0.44614598],\n",
       "       [ 0.44614598],\n",
       "       [ 0.44614598],\n",
       "       [ 0.12425133],\n",
       "       [ 0.44614598],\n",
       "       [-0.51953796],\n",
       "       [ 0.44614598],\n",
       "       [-0.51953796],\n",
       "       [ 0.12425133],\n",
       "       [ 0.76804062],\n",
       "       [ 1.08993527],\n",
       "       [ 0.44614598],\n",
       "       [ 0.44614598],\n",
       "       [-0.51953796],\n",
       "       [ 1.73372456],\n",
       "       [ 0.44614598],\n",
       "       [ 0.76804062],\n",
       "       [-0.8414326 ],\n",
       "       [ 2.37751385],\n",
       "       [-1.16332725],\n",
       "       [ 0.44614598],\n",
       "       [-0.51953796],\n",
       "       [ 0.12425133],\n",
       "       [ 0.12425133],\n",
       "       [ 0.12425133],\n",
       "       [ 0.12425133],\n",
       "       [ 2.37751385],\n",
       "       [ 2.37751385],\n",
       "       [-0.8414326 ],\n",
       "       [-0.51953796],\n",
       "       [ 0.44614598],\n",
       "       [-0.51953796],\n",
       "       [ 0.12425133],\n",
       "       [-0.51953796],\n",
       "       [-0.51953796],\n",
       "       [-0.8414326 ],\n",
       "       [ 1.73372456],\n",
       "       [ 0.44614598],\n",
       "       [ 0.12425133],\n",
       "       [ 0.12425133],\n",
       "       [ 0.44614598],\n",
       "       [ 2.37751385],\n",
       "       [ 0.44614598],\n",
       "       [-0.8414326 ],\n",
       "       [ 0.12425133],\n",
       "       [ 0.12425133],\n",
       "       [-0.51953796],\n",
       "       [-0.51953796],\n",
       "       [ 0.12425133],\n",
       "       [-0.51953796],\n",
       "       [-0.8414326 ],\n",
       "       [ 0.76804062],\n",
       "       [ 0.12425133],\n",
       "       [-1.16332725],\n",
       "       [ 0.12425133],\n",
       "       [-0.19764331],\n",
       "       [-0.19764331],\n",
       "       [ 0.12425133],\n",
       "       [ 0.44614598],\n",
       "       [-0.19764331],\n",
       "       [ 0.12425133],\n",
       "       [ 2.0556192 ],\n",
       "       [ 1.41182991],\n",
       "       [ 0.12425133],\n",
       "       [ 0.76804062],\n",
       "       [ 0.12425133],\n",
       "       [ 0.12425133],\n",
       "       [ 0.76804062],\n",
       "       [ 0.44614598],\n",
       "       [ 0.44614598],\n",
       "       [-0.51953796],\n",
       "       [ 1.08993527],\n",
       "       [ 0.76804062],\n",
       "       [ 0.12425133],\n",
       "       [ 0.76804062],\n",
       "       [ 0.44614598],\n",
       "       [ 0.12425133],\n",
       "       [-1.48522189],\n",
       "       [-0.51953796],\n",
       "       [-0.19764331],\n",
       "       [ 0.44614598],\n",
       "       [-1.16332725],\n",
       "       [ 0.12425133],\n",
       "       [ 0.76804062],\n",
       "       [-0.51953796],\n",
       "       [-0.8414326 ],\n",
       "       [-0.8414326 ],\n",
       "       [-0.19764331],\n",
       "       [ 0.12425133],\n",
       "       [ 0.44614598],\n",
       "       [ 0.12425133],\n",
       "       [-0.8414326 ],\n",
       "       [-0.19764331],\n",
       "       [ 0.12425133],\n",
       "       [ 0.44614598],\n",
       "       [-0.51953796],\n",
       "       [-0.51953796],\n",
       "       [-0.51953796],\n",
       "       [-0.51953796],\n",
       "       [-1.48522189],\n",
       "       [ 0.12425133],\n",
       "       [-0.8414326 ],\n",
       "       [-0.51953796],\n",
       "       [ 0.44614598],\n",
       "       [ 0.12425133],\n",
       "       [ 0.44614598],\n",
       "       [ 0.44614598],\n",
       "       [ 0.44614598],\n",
       "       [-0.51953796],\n",
       "       [ 0.12425133],\n",
       "       [ 0.12425133],\n",
       "       [-0.51953796],\n",
       "       [-0.51953796],\n",
       "       [ 1.73372456],\n",
       "       [ 0.12425133],\n",
       "       [-0.8414326 ],\n",
       "       [ 0.44614598],\n",
       "       [ 1.73372456],\n",
       "       [ 0.44614598],\n",
       "       [ 0.44614598],\n",
       "       [ 0.76804062],\n",
       "       [-0.51953796],\n",
       "       [ 3.66509243],\n",
       "       [ 0.12425133],\n",
       "       [ 0.44614598],\n",
       "       [ 0.12425133],\n",
       "       [ 0.44614598],\n",
       "       [ 0.44614598],\n",
       "       [ 0.12425133],\n",
       "       [-0.51953796],\n",
       "       [ 0.12425133],\n",
       "       [ 0.76804062],\n",
       "       [ 0.76804062],\n",
       "       [ 0.44614598],\n",
       "       [ 2.0556192 ],\n",
       "       [ 0.12425133],\n",
       "       [ 0.76804062],\n",
       "       [-0.51953796],\n",
       "       [-1.16332725],\n",
       "       [ 0.44614598],\n",
       "       [-0.51953796],\n",
       "       [ 2.37751385],\n",
       "       [-0.51953796],\n",
       "       [ 2.37751385],\n",
       "       [ 0.12425133],\n",
       "       [-0.19764331],\n",
       "       [ 0.12425133],\n",
       "       [ 0.12425133],\n",
       "       [-0.8414326 ],\n",
       "       [-0.51953796],\n",
       "       [ 0.12425133],\n",
       "       [-0.51953796],\n",
       "       [-0.8414326 ],\n",
       "       [-0.8414326 ],\n",
       "       [-1.16332725],\n",
       "       [-0.19764331],\n",
       "       [ 0.76804062],\n",
       "       [-0.51953796],\n",
       "       [ 0.76804062],\n",
       "       [ 0.12425133],\n",
       "       [ 0.44614598],\n",
       "       [-0.8414326 ],\n",
       "       [ 1.73372456],\n",
       "       [ 0.12425133],\n",
       "       [ 0.12425133],\n",
       "       [ 0.44614598],\n",
       "       [-0.19764331],\n",
       "       [-0.8414326 ],\n",
       "       [ 0.44614598],\n",
       "       [-0.8414326 ],\n",
       "       [ 0.44614598],\n",
       "       [-0.19764331],\n",
       "       [ 1.08993527],\n",
       "       [ 0.76804062],\n",
       "       [ 0.76804062],\n",
       "       [-0.8414326 ],\n",
       "       [ 0.12425133],\n",
       "       [ 0.76804062],\n",
       "       [-1.16332725],\n",
       "       [ 0.44614598],\n",
       "       [-0.19764331],\n",
       "       [ 0.12425133],\n",
       "       [ 0.44614598],\n",
       "       [-0.51953796],\n",
       "       [ 1.41182991],\n",
       "       [ 0.44614598],\n",
       "       [ 0.12425133],\n",
       "       [ 0.44614598],\n",
       "       [-0.19764331],\n",
       "       [-0.19764331],\n",
       "       [-0.8414326 ],\n",
       "       [ 0.44614598],\n",
       "       [ 0.44614598],\n",
       "       [-0.51953796],\n",
       "       [ 0.12425133],\n",
       "       [ 0.76804062],\n",
       "       [ 1.08993527],\n",
       "       [ 0.12425133],\n",
       "       [ 1.08993527],\n",
       "       [ 0.12425133],\n",
       "       [-0.19764331],\n",
       "       [-0.19764331],\n",
       "       [ 0.12425133],\n",
       "       [-0.51953796],\n",
       "       [ 0.76804062],\n",
       "       [-0.51953796],\n",
       "       [ 0.12425133],\n",
       "       [ 0.76804062],\n",
       "       [ 0.12425133],\n",
       "       [ 0.44614598],\n",
       "       [ 1.73372456],\n",
       "       [ 0.44614598],\n",
       "       [-0.51953796],\n",
       "       [-0.8414326 ],\n",
       "       [ 0.44614598],\n",
       "       [-0.51953796],\n",
       "       [ 0.44614598],\n",
       "       [ 1.08993527],\n",
       "       [-0.19764331],\n",
       "       [-0.51953796],\n",
       "       [ 0.44614598],\n",
       "       [ 0.12425133],\n",
       "       [ 0.12425133],\n",
       "       [ 0.44614598],\n",
       "       [-0.51953796],\n",
       "       [-0.51953796],\n",
       "       [ 0.12425133],\n",
       "       [ 0.12425133],\n",
       "       [ 0.12425133],\n",
       "       [ 0.12425133],\n",
       "       [ 0.44614598],\n",
       "       [-0.51953796],\n",
       "       [ 0.76804062],\n",
       "       [ 0.12425133],\n",
       "       [ 0.12425133],\n",
       "       [-0.51953796],\n",
       "       [ 0.12425133],\n",
       "       [-0.19764331],\n",
       "       [-0.19764331],\n",
       "       [ 1.08993527],\n",
       "       [ 1.08993527],\n",
       "       [ 0.12425133],\n",
       "       [ 0.44614598],\n",
       "       [ 0.44614598],\n",
       "       [ 0.44614598],\n",
       "       [ 0.44614598],\n",
       "       [-0.51953796],\n",
       "       [ 0.12425133],\n",
       "       [-0.51953796],\n",
       "       [ 0.44614598],\n",
       "       [ 0.12425133],\n",
       "       [ 1.08993527],\n",
       "       [ 0.12425133],\n",
       "       [ 1.41182991],\n",
       "       [ 2.0556192 ],\n",
       "       [ 0.12425133],\n",
       "       [ 1.08993527],\n",
       "       [ 0.44614598],\n",
       "       [-0.19764331],\n",
       "       [-0.19764331],\n",
       "       [ 0.76804062],\n",
       "       [-0.8414326 ],\n",
       "       [ 0.12425133],\n",
       "       [ 0.12425133],\n",
       "       [ 0.12425133],\n",
       "       [-0.8414326 ],\n",
       "       [ 0.12425133],\n",
       "       [ 0.44614598],\n",
       "       [ 0.44614598],\n",
       "       [ 0.12425133],\n",
       "       [ 0.76804062],\n",
       "       [ 0.76804062],\n",
       "       [-0.51953796],\n",
       "       [ 0.76804062],\n",
       "       [ 1.73372456],\n",
       "       [-0.51953796],\n",
       "       [ 2.37751385],\n",
       "       [ 0.12425133],\n",
       "       [-0.19764331],\n",
       "       [-0.51953796],\n",
       "       [ 0.12425133],\n",
       "       [ 0.44614598],\n",
       "       [ 0.12425133],\n",
       "       [-0.8414326 ],\n",
       "       [ 0.12425133],\n",
       "       [ 1.08993527],\n",
       "       [ 3.02130314],\n",
       "       [ 0.76804062],\n",
       "       [ 0.12425133],\n",
       "       [ 0.44614598],\n",
       "       [ 0.12425133],\n",
       "       [ 1.41182991],\n",
       "       [ 0.12425133]])"
      ]
     },
     "execution_count": 49,
     "metadata": {},
     "output_type": "execute_result"
    }
   ],
   "source": [
    "from sklearn.preprocessing import StandardScaler # крч норм будет признаки привести к одному масштабу, чтобы норм можно было интерпретировать. Типа y=5x1+100000x2 кажется что у x2 ебать большое изменение, но по факту x2 может быть очень маленьким сам по себе, а  x1 очень большим\n",
    "\n",
    "scaler = StandardScaler()\n",
    "scaler.fit_transform(X[['Income']])"
   ]
  },
  {
   "cell_type": "markdown",
   "metadata": {
    "id": "e0414655"
   },
   "source": [
    "Есть две проблемы:\n",
    "- класc StandardScaler не умеет работать только на части колонок датафрейма\n",
    "- классы sklearn возвращают numpy arrays, а не pandas dataframe, что не удобно"
   ]
  },
  {
   "cell_type": "code",
   "execution_count": 50,
   "metadata": {
    "colab": {
     "base_uri": "https://localhost:8080/"
    },
    "executionInfo": {
     "elapsed": 250,
     "status": "ok",
     "timestamp": 1694972751308,
     "user": {
      "displayName": "Sergey Korpachev",
      "userId": "09181340988160569540"
     },
     "user_tz": -180
    },
    "id": "31d98491",
    "outputId": "a359e2cf-cf66-4f60-90cf-226b06ef5905"
   },
   "outputs": [
    {
     "data": {
      "text/plain": [
       "['Income', 'Children', 'Cars', 'Age']"
      ]
     },
     "execution_count": 50,
     "metadata": {},
     "output_type": "execute_result"
    }
   ],
   "source": [
    "num_cols"
   ]
  },
  {
   "cell_type": "code",
   "execution_count": 51,
   "metadata": {
    "executionInfo": {
     "elapsed": 3,
     "status": "ok",
     "timestamp": 1694972751610,
     "user": {
      "displayName": "Sergey Korpachev",
      "userId": "09181340988160569540"
     },
     "user_tz": -180
    },
    "id": "aa30d1d3"
   },
   "outputs": [],
   "source": [
    "from sklearn.compose import ColumnTransformer\n",
    "\n",
    "ct = ColumnTransformer([('scaler', StandardScaler(), num_cols)], remainder='passthrough') # 'drop'"
   ]
  },
  {
   "cell_type": "code",
   "execution_count": 52,
   "metadata": {
    "colab": {
     "base_uri": "https://localhost:8080/"
    },
    "executionInfo": {
     "elapsed": 5,
     "status": "ok",
     "timestamp": 1694972753811,
     "user": {
      "displayName": "Sergey Korpachev",
      "userId": "09181340988160569540"
     },
     "user_tz": -180
    },
    "id": "108fdb47",
    "outputId": "19aa2897-022d-4c9a-cfd3-f877cecf52ce"
   },
   "outputs": [
    {
     "data": {
      "text/plain": [
       "array([[-0.5195379574051056, -0.5586728696623785, -1.2916513760469168,\n",
       "        ..., 'Yes', '0-1 Miles', 'Europe'],\n",
       "       [-0.8414326026375131, 0.6718841119728166, -0.4020843126537234,\n",
       "        ..., 'Yes', '0-1 Miles', 'Europe'],\n",
       "       [0.7680406235245242, 1.9024410936080116, 0.48748275073947, ...,\n",
       "        'No', '2-5 Miles', 'Europe'],\n",
       "       ...,\n",
       "       [0.12425133305970927, 0.05660562115521903, -1.2916513760469168,\n",
       "        ..., 'Yes', '0-1 Miles', 'North America'],\n",
       "       [1.4118299139893389, 0.6718841119728166, 1.3770498141326635, ...,\n",
       "        'No', '1-2 Miles', 'North America'],\n",
       "       [0.12425133305970927, 0.6718841119728166, 0.48748275073947, ...,\n",
       "        'Yes', '10+ Miles', 'North America']], dtype=object)"
      ]
     },
     "execution_count": 52,
     "metadata": {},
     "output_type": "execute_result"
    }
   ],
   "source": [
    "ct.fit_transform(X)"
   ]
  },
  {
   "cell_type": "code",
   "execution_count": 53,
   "metadata": {
    "executionInfo": {
     "elapsed": 237,
     "status": "ok",
     "timestamp": 1694972758873,
     "user": {
      "displayName": "Sergey Korpachev",
      "userId": "09181340988160569540"
     },
     "user_tz": -180
    },
    "id": "4e56049e"
   },
   "outputs": [],
   "source": [
    "# нет удобной реализации - напишем сами !\n",
    "\n",
    "from sklearn.base import TransformerMixin\n",
    "\n",
    "class CustomScaler(TransformerMixin):\n",
    "    def __init__(self, cols, scaler=None):\n",
    "        self.cols = cols\n",
    "        self.scaler = scaler or StandardScaler()\n",
    "\n",
    "    def fit(self, X, y=None):\n",
    "        num_cols = X.copy()[self.cols]\n",
    "        self.scaler.fit(num_cols)\n",
    "        return self\n",
    "    def transform(self, X, y=None):\n",
    "        X_res = X.copy()\n",
    "        num_cols_tr = self.scaler.transform(X_res[self.cols])\n",
    "        for i, col in enumerate(self.cols):\n",
    "            X_res[col] = num_cols_tr[:,i]\n",
    "        return X_res"
   ]
  },
  {
   "cell_type": "code",
   "execution_count": 54,
   "metadata": {
    "executionInfo": {
     "elapsed": 259,
     "status": "ok",
     "timestamp": 1694972760972,
     "user": {
      "displayName": "Sergey Korpachev",
      "userId": "09181340988160569540"
     },
     "user_tz": -180
    },
    "id": "2f03ef75"
   },
   "outputs": [],
   "source": [
    "sc = CustomScaler(num_cols)\n",
    "X2 = sc.fit_transform(X)"
   ]
  },
  {
   "cell_type": "code",
   "execution_count": 55,
   "metadata": {
    "colab": {
     "base_uri": "https://localhost:8080/",
     "height": 419
    },
    "executionInfo": {
     "elapsed": 6,
     "status": "ok",
     "timestamp": 1694972761277,
     "user": {
      "displayName": "Sergey Korpachev",
      "userId": "09181340988160569540"
     },
     "user_tz": -180
    },
    "id": "aeec28cb",
    "outputId": "2880b771-49cc-4e4e-d1e1-6d82d4291f79"
   },
   "outputs": [
    {
     "data": {
      "text/html": [
       "<div>\n",
       "<style scoped>\n",
       "    .dataframe tbody tr th:only-of-type {\n",
       "        vertical-align: middle;\n",
       "    }\n",
       "\n",
       "    .dataframe tbody tr th {\n",
       "        vertical-align: top;\n",
       "    }\n",
       "\n",
       "    .dataframe thead th {\n",
       "        text-align: right;\n",
       "    }\n",
       "</style>\n",
       "<table border=\"1\" class=\"dataframe\">\n",
       "  <thead>\n",
       "    <tr style=\"text-align: right;\">\n",
       "      <th></th>\n",
       "      <th>Marital Status</th>\n",
       "      <th>Gender</th>\n",
       "      <th>Income</th>\n",
       "      <th>Children</th>\n",
       "      <th>Education</th>\n",
       "      <th>Occupation</th>\n",
       "      <th>Home Owner</th>\n",
       "      <th>Cars</th>\n",
       "      <th>Commute Distance</th>\n",
       "      <th>Region</th>\n",
       "      <th>Age</th>\n",
       "    </tr>\n",
       "  </thead>\n",
       "  <tbody>\n",
       "    <tr>\n",
       "      <th>0</th>\n",
       "      <td>Married</td>\n",
       "      <td>Female</td>\n",
       "      <td>-0.519538</td>\n",
       "      <td>-0.558673</td>\n",
       "      <td>Bachelors</td>\n",
       "      <td>Skilled Manual</td>\n",
       "      <td>Yes</td>\n",
       "      <td>-1.291651</td>\n",
       "      <td>0-1 Miles</td>\n",
       "      <td>Europe</td>\n",
       "      <td>-0.192988</td>\n",
       "    </tr>\n",
       "    <tr>\n",
       "      <th>1</th>\n",
       "      <td>Married</td>\n",
       "      <td>Male</td>\n",
       "      <td>-0.841433</td>\n",
       "      <td>0.671884</td>\n",
       "      <td>Partial College</td>\n",
       "      <td>Clerical</td>\n",
       "      <td>Yes</td>\n",
       "      <td>-0.402084</td>\n",
       "      <td>0-1 Miles</td>\n",
       "      <td>Europe</td>\n",
       "      <td>-0.104866</td>\n",
       "    </tr>\n",
       "    <tr>\n",
       "      <th>2</th>\n",
       "      <td>Married</td>\n",
       "      <td>Male</td>\n",
       "      <td>0.768041</td>\n",
       "      <td>1.902441</td>\n",
       "      <td>Partial College</td>\n",
       "      <td>Professional</td>\n",
       "      <td>No</td>\n",
       "      <td>0.487483</td>\n",
       "      <td>2-5 Miles</td>\n",
       "      <td>Europe</td>\n",
       "      <td>1.393214</td>\n",
       "    </tr>\n",
       "    <tr>\n",
       "      <th>3</th>\n",
       "      <td>Single</td>\n",
       "      <td>Male</td>\n",
       "      <td>0.446146</td>\n",
       "      <td>-1.173951</td>\n",
       "      <td>Bachelors</td>\n",
       "      <td>Professional</td>\n",
       "      <td>Yes</td>\n",
       "      <td>-0.402084</td>\n",
       "      <td>5-10 Miles</td>\n",
       "      <td>Pacific</td>\n",
       "      <td>-0.281110</td>\n",
       "    </tr>\n",
       "    <tr>\n",
       "      <th>4</th>\n",
       "      <td>Single</td>\n",
       "      <td>Male</td>\n",
       "      <td>-0.841433</td>\n",
       "      <td>-1.173951</td>\n",
       "      <td>Bachelors</td>\n",
       "      <td>Clerical</td>\n",
       "      <td>No</td>\n",
       "      <td>-1.291651</td>\n",
       "      <td>0-1 Miles</td>\n",
       "      <td>Europe</td>\n",
       "      <td>-0.721722</td>\n",
       "    </tr>\n",
       "    <tr>\n",
       "      <th>...</th>\n",
       "      <td>...</td>\n",
       "      <td>...</td>\n",
       "      <td>...</td>\n",
       "      <td>...</td>\n",
       "      <td>...</td>\n",
       "      <td>...</td>\n",
       "      <td>...</td>\n",
       "      <td>...</td>\n",
       "      <td>...</td>\n",
       "      <td>...</td>\n",
       "      <td>...</td>\n",
       "    </tr>\n",
       "    <tr>\n",
       "      <th>995</th>\n",
       "      <td>Married</td>\n",
       "      <td>Male</td>\n",
       "      <td>0.124251</td>\n",
       "      <td>0.056606</td>\n",
       "      <td>High School</td>\n",
       "      <td>Professional</td>\n",
       "      <td>Yes</td>\n",
       "      <td>0.487483</td>\n",
       "      <td>2-5 Miles</td>\n",
       "      <td>North America</td>\n",
       "      <td>0.864480</td>\n",
       "    </tr>\n",
       "    <tr>\n",
       "      <th>996</th>\n",
       "      <td>Single</td>\n",
       "      <td>Male</td>\n",
       "      <td>0.446146</td>\n",
       "      <td>1.287163</td>\n",
       "      <td>Graduate Degree</td>\n",
       "      <td>Professional</td>\n",
       "      <td>Yes</td>\n",
       "      <td>-1.291651</td>\n",
       "      <td>2-5 Miles</td>\n",
       "      <td>North America</td>\n",
       "      <td>-0.809844</td>\n",
       "    </tr>\n",
       "    <tr>\n",
       "      <th>997</th>\n",
       "      <td>Married</td>\n",
       "      <td>Male</td>\n",
       "      <td>0.124251</td>\n",
       "      <td>0.056606</td>\n",
       "      <td>Bachelors</td>\n",
       "      <td>Skilled Manual</td>\n",
       "      <td>Yes</td>\n",
       "      <td>-1.291651</td>\n",
       "      <td>0-1 Miles</td>\n",
       "      <td>North America</td>\n",
       "      <td>-0.545477</td>\n",
       "    </tr>\n",
       "    <tr>\n",
       "      <th>998</th>\n",
       "      <td>Single</td>\n",
       "      <td>Male</td>\n",
       "      <td>1.411830</td>\n",
       "      <td>0.671884</td>\n",
       "      <td>Bachelors</td>\n",
       "      <td>Management</td>\n",
       "      <td>No</td>\n",
       "      <td>1.377050</td>\n",
       "      <td>1-2 Miles</td>\n",
       "      <td>North America</td>\n",
       "      <td>-0.545477</td>\n",
       "    </tr>\n",
       "    <tr>\n",
       "      <th>999</th>\n",
       "      <td>Single</td>\n",
       "      <td>Male</td>\n",
       "      <td>0.124251</td>\n",
       "      <td>0.671884</td>\n",
       "      <td>High School</td>\n",
       "      <td>Professional</td>\n",
       "      <td>Yes</td>\n",
       "      <td>0.487483</td>\n",
       "      <td>10+ Miles</td>\n",
       "      <td>North America</td>\n",
       "      <td>0.776358</td>\n",
       "    </tr>\n",
       "  </tbody>\n",
       "</table>\n",
       "<p>1000 rows × 11 columns</p>\n",
       "</div>"
      ],
      "text/plain": [
       "    Marital Status  Gender    Income  Children        Education  \\\n",
       "0          Married  Female -0.519538 -0.558673        Bachelors   \n",
       "1          Married    Male -0.841433  0.671884  Partial College   \n",
       "2          Married    Male  0.768041  1.902441  Partial College   \n",
       "3           Single    Male  0.446146 -1.173951        Bachelors   \n",
       "4           Single    Male -0.841433 -1.173951        Bachelors   \n",
       "..             ...     ...       ...       ...              ...   \n",
       "995        Married    Male  0.124251  0.056606      High School   \n",
       "996         Single    Male  0.446146  1.287163  Graduate Degree   \n",
       "997        Married    Male  0.124251  0.056606        Bachelors   \n",
       "998         Single    Male  1.411830  0.671884        Bachelors   \n",
       "999         Single    Male  0.124251  0.671884      High School   \n",
       "\n",
       "         Occupation Home Owner      Cars Commute Distance         Region  \\\n",
       "0    Skilled Manual        Yes -1.291651        0-1 Miles         Europe   \n",
       "1          Clerical        Yes -0.402084        0-1 Miles         Europe   \n",
       "2      Professional         No  0.487483        2-5 Miles         Europe   \n",
       "3      Professional        Yes -0.402084       5-10 Miles        Pacific   \n",
       "4          Clerical         No -1.291651        0-1 Miles         Europe   \n",
       "..              ...        ...       ...              ...            ...   \n",
       "995    Professional        Yes  0.487483        2-5 Miles  North America   \n",
       "996    Professional        Yes -1.291651        2-5 Miles  North America   \n",
       "997  Skilled Manual        Yes -1.291651        0-1 Miles  North America   \n",
       "998      Management         No  1.377050        1-2 Miles  North America   \n",
       "999    Professional        Yes  0.487483        10+ Miles  North America   \n",
       "\n",
       "          Age  \n",
       "0   -0.192988  \n",
       "1   -0.104866  \n",
       "2    1.393214  \n",
       "3   -0.281110  \n",
       "4   -0.721722  \n",
       "..        ...  \n",
       "995  0.864480  \n",
       "996 -0.809844  \n",
       "997 -0.545477  \n",
       "998 -0.545477  \n",
       "999  0.776358  \n",
       "\n",
       "[1000 rows x 11 columns]"
      ]
     },
     "execution_count": 55,
     "metadata": {},
     "output_type": "execute_result"
    }
   ],
   "source": [
    "X2"
   ]
  },
  {
   "cell_type": "markdown",
   "metadata": {
    "id": "6df6e872"
   },
   "source": [
    "# Соберем все преобразования данных в pipeline"
   ]
  },
  {
   "cell_type": "code",
   "execution_count": 56,
   "metadata": {},
   "outputs": [
    {
     "ename": "SyntaxError",
     "evalue": "invalid syntax (<ipython-input-56-27f564f011b1>, line 3)",
     "output_type": "error",
     "traceback": [
      "\u001b[0;36m  File \u001b[0;32m\"<ipython-input-56-27f564f011b1>\"\u001b[0;36m, line \u001b[0;32m3\u001b[0m\n\u001b[0;31m    oen = Ordinal..()\u001b[0m\n\u001b[0m                  ^\u001b[0m\n\u001b[0;31mSyntaxError\u001b[0m\u001b[0;31m:\u001b[0m invalid syntax\n"
     ]
    }
   ],
   "source": [
    "# pipeline применяем каждый раз вместо этой хуйни:\n",
    "X, y = ...\n",
    "oen = Ordinal..()\n",
    "oen.fit()\n",
    "oen.transf()\n",
    "\n",
    "oen = Skaler..()\n",
    "oen.fit()\n",
    "oen.transf()"
   ]
  },
  {
   "cell_type": "raw",
   "metadata": {},
   "source": [
    "Вот мы применяем pipeline:"
   ]
  },
  {
   "cell_type": "code",
   "execution_count": 57,
   "metadata": {
    "executionInfo": {
     "elapsed": 267,
     "status": "ok",
     "timestamp": 1694972764468,
     "user": {
      "displayName": "Sergey Korpachev",
      "userId": "09181340988160569540"
     },
     "user_tz": -180
    },
    "id": "ba1d0eb3"
   },
   "outputs": [
    {
     "ename": "TypeError",
     "evalue": "__init__() got an unexpected keyword argument 'cols'",
     "output_type": "error",
     "traceback": [
      "\u001b[0;31m---------------------------------------------------------------------------\u001b[0m",
      "\u001b[0;31mTypeError\u001b[0m                                 Traceback (most recent call last)",
      "\u001b[0;32m<ipython-input-57-ba34a6360ab1>\u001b[0m in \u001b[0;36m<module>\u001b[0;34m\u001b[0m\n\u001b[1;32m      9\u001b[0m \u001b[0;34m\u001b[0m\u001b[0m\n\u001b[1;32m     10\u001b[0m p2 = Pipeline([\n\u001b[0;32m---> 11\u001b[0;31m     \u001b[0;34m(\u001b[0m\u001b[0;34m'one_hot_encoder_'\u001b[0m\u001b[0;34m,\u001b[0m \u001b[0mOneHotEncoder\u001b[0m\u001b[0;34m(\u001b[0m\u001b[0mcols\u001b[0m\u001b[0;34m=\u001b[0m\u001b[0mordinal_cols\u001b[0m \u001b[0;34m+\u001b[0m \u001b[0mbinary_cols\u001b[0m\u001b[0;34m+\u001b[0m\u001b[0mcat_cols\u001b[0m\u001b[0;34m)\u001b[0m\u001b[0;34m)\u001b[0m\u001b[0;34m,\u001b[0m\u001b[0;34m\u001b[0m\u001b[0;34m\u001b[0m\u001b[0m\n\u001b[0m\u001b[1;32m     12\u001b[0m     \u001b[0;34m(\u001b[0m\u001b[0;34m'scaler_'\u001b[0m\u001b[0;34m,\u001b[0m \u001b[0mCustomScaler\u001b[0m\u001b[0;34m(\u001b[0m\u001b[0mnum_cols\u001b[0m\u001b[0;34m)\u001b[0m\u001b[0;34m)\u001b[0m\u001b[0;34m,\u001b[0m\u001b[0;34m\u001b[0m\u001b[0;34m\u001b[0m\u001b[0m\n\u001b[1;32m     13\u001b[0m     \u001b[0;34m(\u001b[0m\u001b[0;34m'model_'\u001b[0m\u001b[0;34m,\u001b[0m \u001b[0mLogisticRegression\u001b[0m\u001b[0;34m(\u001b[0m\u001b[0;34m)\u001b[0m\u001b[0;34m)\u001b[0m\u001b[0;34m\u001b[0m\u001b[0;34m\u001b[0m\u001b[0m\n",
      "\u001b[0;31mTypeError\u001b[0m: __init__() got an unexpected keyword argument 'cols'"
     ]
    }
   ],
   "source": [
    "from sklearn.linear_model import LogisticRegression\n",
    "from sklearn.pipeline import Pipeline\n",
    "\n",
    "p1 = Pipeline([\n",
    "    ('ordinal_encoder_', OrdinalEncoder(cols=ordinal_cols + binary_cols + cat_cols)), # плохо!!!\n",
    "    ('scaler_', CustomScaler(num_cols)),\n",
    "    ('model_', LogisticRegression())\n",
    "    ])\n",
    "\n",
    "p2 = Pipeline([\n",
    "    ('one_hot_encoder_', OneHotEncoder(cols=ordinal_cols + binary_cols+cat_cols)),\n",
    "    ('scaler_', CustomScaler(num_cols)),\n",
    "    ('model_', LogisticRegression())\n",
    "    ])\n",
    "\n",
    "p3 = Pipeline([\n",
    "    ('target_encoder_', TargetEncoder(cols=ordinal_cols + binary_cols+cat_cols)),\n",
    "    ('scaler_', CustomScaler(num_cols)),\n",
    "    ('model_', LogisticRegression())\n",
    "])\n",
    "\n",
    "p4 = Pipeline([\n",
    "    ('ordinal_encoder_', OrdinalEncoder(cols=ordinal_cols)),\n",
    "    ('one_hot_encoder_', OneHotEncoder(cols=binary_cols+cat_cols)),\n",
    "    ('scaler_', CustomScaler(num_cols)),\n",
    "    ('model_', LogisticRegression())\n",
    "    ])\n",
    "\n",
    "p5 = Pipeline([\n",
    "    ('ordinal_encoder_', OrdinalEncoder(cols=ordinal_cols)),\n",
    "    ('one_hot_encoder_', OneHotEncoder(cols=binary_cols)),\n",
    "    ('target_encoder_', TargetEncoder(cols=cat_cols)),\n",
    "    ('scaler_', CustomScaler(num_cols)),\n",
    "    ('model_', LogisticRegression())\n",
    "])\n",
    "\n",
    "p6 = Pipeline([\n",
    "    ('one_hot_encoder_', OneHotEncoder(cols=binary_cols)),\n",
    "    ('target_encoder_', TargetEncoder(cols=cat_cols + ordinal_cols)),\n",
    "    ('scaler_', CustomScaler(num_cols)),\n",
    "    ('model_', LogisticRegression())\n",
    "])"
   ]
  },
  {
   "cell_type": "code",
   "execution_count": 77,
   "metadata": {
    "colab": {
     "base_uri": "https://localhost:8080/"
    },
    "executionInfo": {
     "elapsed": 247,
     "status": "ok",
     "timestamp": 1694972768191,
     "user": {
      "displayName": "Sergey Korpachev",
      "userId": "09181340988160569540"
     },
     "user_tz": -180
    },
    "id": "9cf3065c",
    "outputId": "597ca3fe-e124-4e64-a971-510f4f7a84b1"
   },
   "outputs": [
    {
     "name": "stdout",
     "output_type": "stream",
     "text": [
      "0.644\n"
     ]
    }
   ],
   "source": [
    "# пример работы с пайплайном\n",
    "from sklearn.model_selection import train_test_split\n",
    "from sklearn.metrics import accuracy_score\n",
    "\n",
    "X_train, X_test, y_train, y_test = train_test_split(X, y)\n",
    "\n",
    "p1.fit(X_train, y_train)\n",
    "\n",
    "#print(p1)\n",
    "\n",
    "y_pred = p1.predict(X_test)\n",
    "\n",
    "print(accuracy_score(y_test, y_pred))"
   ]
  },
  {
   "cell_type": "markdown",
   "metadata": {
    "id": "f63c4670"
   },
   "source": [
    "# Сравнение качества классификации при разных пайплайнах преобразования данных"
   ]
  },
  {
   "cell_type": "markdown",
   "metadata": {
    "id": "bc0dc93e"
   },
   "source": [
    "Вообще существует довольно большое количество метрик для задачи бинарной классификации (о них будет подробно рассказано на лекциях)\n",
    "\n",
    "Но для нашей задачи разберем самую простую и интуитивную метрику: accuracy\n",
    "\n",
    "$accuracy = \\frac{1}{n}\\Sigma_{i=0}^n [\\hat y_i == y_i]$\n",
    "\n",
    "То есть доля правильных предсказаний"
   ]
  },
  {
   "cell_type": "code",
   "execution_count": 78,
   "metadata": {
    "executionInfo": {
     "elapsed": 350,
     "status": "ok",
     "timestamp": 1694972807847,
     "user": {
      "displayName": "Sergey Korpachev",
      "userId": "09181340988160569540"
     },
     "user_tz": -180
    },
    "id": "ee526e54"
   },
   "outputs": [],
   "source": [
    "from sklearn.model_selection import cross_validate, cross_val_score\n",
    "import warnings\n",
    "\n",
    "warnings.filterwarnings('ignore')"
   ]
  },
  {
   "cell_type": "code",
   "execution_count": null,
   "metadata": {},
   "outputs": [],
   "source": [
    "for i, pipe in enume"
   ]
  },
  {
   "cell_type": "code",
   "execution_count": 79,
   "metadata": {
    "colab": {
     "base_uri": "https://localhost:8080/"
    },
    "executionInfo": {
     "elapsed": 4389,
     "status": "ok",
     "timestamp": 1694972814585,
     "user": {
      "displayName": "Sergey Korpachev",
      "userId": "09181340988160569540"
     },
     "user_tz": -180
    },
    "id": "22e4cfd0",
    "outputId": "31e5b62a-02b2-4122-c0ef-04f07faf49a3",
    "scrolled": true
   },
   "outputs": [
    {
     "ename": "NameError",
     "evalue": "name 'p2' is not defined",
     "output_type": "error",
     "traceback": [
      "\u001b[0;31m---------------------------------------------------------------------------\u001b[0m",
      "\u001b[0;31mNameError\u001b[0m                                 Traceback (most recent call last)",
      "\u001b[0;32m<ipython-input-79-208555b9b281>\u001b[0m in \u001b[0;36m<module>\u001b[0;34m\u001b[0m\n\u001b[0;32m----> 1\u001b[0;31m \u001b[0;32mfor\u001b[0m \u001b[0mi\u001b[0m\u001b[0;34m,\u001b[0m \u001b[0mpipe\u001b[0m \u001b[0;32min\u001b[0m \u001b[0menumerate\u001b[0m\u001b[0;34m(\u001b[0m\u001b[0;34m[\u001b[0m\u001b[0mp1\u001b[0m\u001b[0;34m,\u001b[0m \u001b[0mp2\u001b[0m\u001b[0;34m,\u001b[0m \u001b[0mp3\u001b[0m\u001b[0;34m,\u001b[0m \u001b[0mp4\u001b[0m\u001b[0;34m,\u001b[0m \u001b[0mp5\u001b[0m\u001b[0;34m,\u001b[0m \u001b[0mp6\u001b[0m\u001b[0;34m]\u001b[0m\u001b[0;34m)\u001b[0m\u001b[0;34m:\u001b[0m\u001b[0;34m\u001b[0m\u001b[0;34m\u001b[0m\u001b[0m\n\u001b[0m\u001b[1;32m      2\u001b[0m     cv_res = cross_validate(pipe,\n\u001b[1;32m      3\u001b[0m                             \u001b[0mX\u001b[0m\u001b[0;34m,\u001b[0m\u001b[0;34m\u001b[0m\u001b[0;34m\u001b[0m\u001b[0m\n\u001b[1;32m      4\u001b[0m                             \u001b[0my\u001b[0m\u001b[0;34m,\u001b[0m\u001b[0;34m\u001b[0m\u001b[0;34m\u001b[0m\u001b[0m\n\u001b[1;32m      5\u001b[0m                             \u001b[0mcv\u001b[0m\u001b[0;34m=\u001b[0m\u001b[0;36m5\u001b[0m\u001b[0;34m,\u001b[0m\u001b[0;34m\u001b[0m\u001b[0;34m\u001b[0m\u001b[0m\n",
      "\u001b[0;31mNameError\u001b[0m: name 'p2' is not defined"
     ]
    }
   ],
   "source": [
    "for i, pipe in enumerate([p1, p2, p3, p4, p5, p6]):\n",
    "    cv_res = cross_validate(pipe,\n",
    "                            X,\n",
    "                            y,\n",
    "                            cv=5,\n",
    "                            scoring='accuracy'\n",
    "                           )\n",
    "    print(f\"Pipeline {i + 1}: mean cv accuracy = {cv_res['test_score'].mean()}\")"
   ]
  },
  {
   "cell_type": "code",
   "execution_count": null,
   "metadata": {
    "executionInfo": {
     "elapsed": 320,
     "status": "ok",
     "timestamp": 1694972973835,
     "user": {
      "displayName": "Sergey Korpachev",
      "userId": "09181340988160569540"
     },
     "user_tz": -180
    },
    "id": "219eac55"
   },
   "outputs": [],
   "source": []
  }
 ],
 "metadata": {
  "colab": {
   "provenance": []
  },
  "kernelspec": {
   "display_name": "Python 3",
   "language": "python",
   "name": "python3"
  },
  "language_info": {
   "codemirror_mode": {
    "name": "ipython",
    "version": 3
   },
   "file_extension": ".py",
   "mimetype": "text/x-python",
   "name": "python",
   "nbconvert_exporter": "python",
   "pygments_lexer": "ipython3",
   "version": "3.8.5"
  }
 },
 "nbformat": 4,
 "nbformat_minor": 5
}
